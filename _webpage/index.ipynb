{
 "cells": [
  {
   "cell_type": "markdown",
   "metadata": {},
   "source": [
    "https://srprinz.github.io/CMPS3160_Final/\n",
    "\n",
    "https://github.com/srprinz/CMPS3160_Final"
   ]
  },
  {
   "cell_type": "markdown",
   "metadata": {},
   "source": [
    "&emsp;&emsp;For our Final Tutorial, I, Annie Donahue, and Shay Prinz, will be working together. We are planning on working with 911 call data from the years 2019 and 2020, and possibly looking backwards to earlier years if it seems necessary, or if we have the time. We would like to manipulate this data to be able to see how different events/phenomena affect either peoples’ ability to call 911, or their willingness to. \n",
    "\n",
    "&emsp;&emsp;For example, we would like to see what the data can tell us about pre-COVID19 911 calls, vs. post COVID19, by comparing the data March of 2020 with April of 2020, and then using March and April 2019 and 2018 as a control factor to see if anything changed. We were also thinking about looking at the 911 call data during times of civil unrest where there was a prominent anti-police sentiment in the U.S. Right now, for example, it would be interesting to see if less people are calling the police as protests calling for police abolishment continue across the country. This data can tell us a lot about the current state of New Orleans as a whole as we will be able to see both crime reporting data and 911 calls related to health issues. These datasets encompass a lot of information, and it may be difficult to filter it in a way that will be easier and more digestible so as to see the true effects of the various events we are trying to center our analysis around.\n",
    "    \n",
    "&emsp;&emsp;A specific challenge Shay came across when transforming the data was converting from string to datetime. Due to how large this dataset is, it was taking over 10 minutes to complete the conversion. This is because pandas uses dateutil.parser.parse for parsing the strings when it has a non-default format or when no format string is supplied. I was able to speed up the process a bit by adding the parameter \"infer_datetime_format=True\".\n",
    "    \n",
    "&emsp;&emsp;We are planning on meeting once a week as a starting point, so as to gauge how much we can get done in one sitting, and make sure we are on a good pace to be able to complete our tutorial in the semester. If need be, we will move up to meeting multiple times a week, especially as we get closer to the end of the semester. Mostly, we will be completing our work on GitHub, and then using the weekly meeting to make a timeline for the next week, and set goals and checkpoints to accomplish before the next time we meet, as well as check in on each others progress and make sure our code and our analyses are compatible. \n",
    "    \n",
    "&emsp;&emsp;We would like to plan at least one big goal to accomplish for each week, which is a hard deadline for us both, as well as a stretch goal that we would ideally get done before the next week, but could be moved up to the next week if it became clear that we didn’t have enough time during that week. This is so as to keep us on a steady track, but also work with both of our busy schedules is knowing that there are some weeks where we may have more time and be able to get  larger bulk of things done, but even in our busier weeks, we would have to get the set goal done, keeping us on a steady movement towards completing the project. Ideally, our weeks will work around Thursdays, as since we are in the service learning portion of the class, we would like to be able to check in during those times with updates to our service learning partner and our class. "
   ]
  },
  {
   "cell_type": "markdown",
   "metadata": {},
   "source": [
    "### 2018 911 Calls Dataset"
   ]
  },
  {
   "cell_type": "code",
   "execution_count": 48,
   "metadata": {},
   "outputs": [],
   "source": [
    "import pandas as pd\n",
    "Calls2018_df = pd.read_csv(\"../Calls_for_Service_2018.csv\",low_memory=False)"
   ]
  },
  {
   "cell_type": "code",
   "execution_count": 49,
   "metadata": {},
   "outputs": [],
   "source": [
    "#Tidy data by dropping columns that won't be used (NOPD_Item, MapX, MapY, TimeClosed, Beat, Location)\n",
    "del Calls2018_df['NOPD_Item']\n",
    "del Calls2018_df['MapX']\n",
    "del Calls2018_df['MapY']\n",
    "del Calls2018_df['TimeClosed']\n",
    "del Calls2018_df['Beat']"
   ]
  },
  {
   "cell_type": "code",
   "execution_count": 50,
   "metadata": {},
   "outputs": [],
   "source": [
    "Calls2018_df[['Latitude','Longitude']] = Calls2018_df.Location.str.split(\",\",expand=True) \n",
    "#Remove location column\n",
    "del Calls2018_df['Location']\n",
    "#Strip parentheses from left and right side\n",
    "Calls2018_df['Latitude'] = Calls2018_df['Latitude'].replace(to_replace='\\(', value=\"\", regex=True)\n",
    "Calls2018_df['Longitude'] = Calls2018_df['Longitude'].replace(to_replace='\\)', value=\"\", regex=True)"
   ]
  },
  {
   "cell_type": "code",
   "execution_count": 51,
   "metadata": {},
   "outputs": [
    {
     "data": {
      "text/html": [
       "<div>\n",
       "<style scoped>\n",
       "    .dataframe tbody tr th:only-of-type {\n",
       "        vertical-align: middle;\n",
       "    }\n",
       "\n",
       "    .dataframe tbody tr th {\n",
       "        vertical-align: top;\n",
       "    }\n",
       "\n",
       "    .dataframe thead th {\n",
       "        text-align: right;\n",
       "    }\n",
       "</style>\n",
       "<table border=\"1\" class=\"dataframe\">\n",
       "  <thead>\n",
       "    <tr style=\"text-align: right;\">\n",
       "      <th></th>\n",
       "      <th>Type_</th>\n",
       "      <th>TypeText</th>\n",
       "      <th>Priority</th>\n",
       "      <th>InitialType</th>\n",
       "      <th>InitialTypeText</th>\n",
       "      <th>InitialPriority</th>\n",
       "      <th>TimeCreate</th>\n",
       "      <th>TimeDispatch</th>\n",
       "      <th>TimeArrive</th>\n",
       "      <th>Disposition</th>\n",
       "      <th>DispositionText</th>\n",
       "      <th>SelfInitiated</th>\n",
       "      <th>BLOCK_ADDRESS</th>\n",
       "      <th>Zip</th>\n",
       "      <th>PoliceDistrict</th>\n",
       "      <th>Latitude</th>\n",
       "      <th>Longitude</th>\n",
       "    </tr>\n",
       "  </thead>\n",
       "  <tbody>\n",
       "    <tr>\n",
       "      <th>0</th>\n",
       "      <td>67C</td>\n",
       "      <td>THEFT FROM EXTERIOR</td>\n",
       "      <td>1A</td>\n",
       "      <td>62C</td>\n",
       "      <td>SIMPLE BURGLARY VEHICLE</td>\n",
       "      <td>1G</td>\n",
       "      <td>2018-01-17 16:10:29</td>\n",
       "      <td>2018-01-18 02:21:51</td>\n",
       "      <td>2018-01-18 02:34:08</td>\n",
       "      <td>GOA</td>\n",
       "      <td>GONE ON ARRIVAL</td>\n",
       "      <td>N</td>\n",
       "      <td>147XX Chef Menteur Hwy</td>\n",
       "      <td>NaN</td>\n",
       "      <td>0</td>\n",
       "      <td>NaN</td>\n",
       "      <td>NaN</td>\n",
       "    </tr>\n",
       "    <tr>\n",
       "      <th>1</th>\n",
       "      <td>103</td>\n",
       "      <td>DISTURBANCE (OTHER)</td>\n",
       "      <td>1C</td>\n",
       "      <td>35</td>\n",
       "      <td>SIMPLE BATTERY</td>\n",
       "      <td>1F</td>\n",
       "      <td>2018-01-25 20:26:48</td>\n",
       "      <td>2018-01-26 00:07:09</td>\n",
       "      <td>2018-01-26 00:10:34</td>\n",
       "      <td>RTF</td>\n",
       "      <td>REPORT TO FOLLOW</td>\n",
       "      <td>N</td>\n",
       "      <td>063XX Stratford Pl</td>\n",
       "      <td>70131.0</td>\n",
       "      <td>4</td>\n",
       "      <td>29.9123282</td>\n",
       "      <td>-89.98715446</td>\n",
       "    </tr>\n",
       "    <tr>\n",
       "      <th>2</th>\n",
       "      <td>18</td>\n",
       "      <td>TRAFFIC INCIDENT</td>\n",
       "      <td>1J</td>\n",
       "      <td>18</td>\n",
       "      <td>TRAFFIC INCIDENT</td>\n",
       "      <td>1J</td>\n",
       "      <td>2018-01-09 01:00:19</td>\n",
       "      <td>2018-01-09 01:01:47</td>\n",
       "      <td>2018-01-09 01:00:19</td>\n",
       "      <td>NAT</td>\n",
       "      <td>Necessary Action Taken</td>\n",
       "      <td>Y</td>\n",
       "      <td>Bourbon St &amp; Iberville St</td>\n",
       "      <td>NaN</td>\n",
       "      <td>0</td>\n",
       "      <td>NaN</td>\n",
       "      <td>NaN</td>\n",
       "    </tr>\n",
       "    <tr>\n",
       "      <th>3</th>\n",
       "      <td>37</td>\n",
       "      <td>AGGRAVATED ASSAULT</td>\n",
       "      <td>1C</td>\n",
       "      <td>103</td>\n",
       "      <td>DISTURBANCE (OTHER)</td>\n",
       "      <td>2A</td>\n",
       "      <td>2018-01-08 01:24:10</td>\n",
       "      <td>2018-01-08 01:25:23</td>\n",
       "      <td>2018-01-08 01:28:28</td>\n",
       "      <td>RTF</td>\n",
       "      <td>REPORT TO FOLLOW</td>\n",
       "      <td>N</td>\n",
       "      <td>007XX Bourbon St</td>\n",
       "      <td>NaN</td>\n",
       "      <td>0</td>\n",
       "      <td>NaN</td>\n",
       "      <td>NaN</td>\n",
       "    </tr>\n",
       "    <tr>\n",
       "      <th>4</th>\n",
       "      <td>63</td>\n",
       "      <td>PROWLER</td>\n",
       "      <td>1A</td>\n",
       "      <td>63</td>\n",
       "      <td>PROWLER</td>\n",
       "      <td>2E</td>\n",
       "      <td>2018-01-25 20:26:53</td>\n",
       "      <td>NaT</td>\n",
       "      <td>NaT</td>\n",
       "      <td>DUP</td>\n",
       "      <td>DUPLICATE</td>\n",
       "      <td>N</td>\n",
       "      <td>006XX N Rampart St</td>\n",
       "      <td>70112.0</td>\n",
       "      <td>1</td>\n",
       "      <td>29.96024903</td>\n",
       "      <td>-90.06907651</td>\n",
       "    </tr>\n",
       "  </tbody>\n",
       "</table>\n",
       "</div>"
      ],
      "text/plain": [
       "  Type_             TypeText Priority InitialType          InitialTypeText  \\\n",
       "0   67C  THEFT FROM EXTERIOR       1A         62C  SIMPLE BURGLARY VEHICLE   \n",
       "1   103  DISTURBANCE (OTHER)       1C          35           SIMPLE BATTERY   \n",
       "2    18     TRAFFIC INCIDENT       1J          18         TRAFFIC INCIDENT   \n",
       "3    37   AGGRAVATED ASSAULT       1C         103      DISTURBANCE (OTHER)   \n",
       "4    63              PROWLER       1A          63                  PROWLER   \n",
       "\n",
       "  InitialPriority          TimeCreate        TimeDispatch          TimeArrive  \\\n",
       "0              1G 2018-01-17 16:10:29 2018-01-18 02:21:51 2018-01-18 02:34:08   \n",
       "1              1F 2018-01-25 20:26:48 2018-01-26 00:07:09 2018-01-26 00:10:34   \n",
       "2              1J 2018-01-09 01:00:19 2018-01-09 01:01:47 2018-01-09 01:00:19   \n",
       "3              2A 2018-01-08 01:24:10 2018-01-08 01:25:23 2018-01-08 01:28:28   \n",
       "4              2E 2018-01-25 20:26:53                 NaT                 NaT   \n",
       "\n",
       "  Disposition         DispositionText SelfInitiated  \\\n",
       "0         GOA         GONE ON ARRIVAL             N   \n",
       "1         RTF        REPORT TO FOLLOW             N   \n",
       "2         NAT  Necessary Action Taken             Y   \n",
       "3         RTF        REPORT TO FOLLOW             N   \n",
       "4         DUP               DUPLICATE             N   \n",
       "\n",
       "               BLOCK_ADDRESS      Zip  PoliceDistrict     Latitude  \\\n",
       "0     147XX Chef Menteur Hwy      NaN               0          NaN   \n",
       "1         063XX Stratford Pl  70131.0               4   29.9123282   \n",
       "2  Bourbon St & Iberville St      NaN               0          NaN   \n",
       "3           007XX Bourbon St      NaN               0          NaN   \n",
       "4         006XX N Rampart St  70112.0               1  29.96024903   \n",
       "\n",
       "       Longitude  \n",
       "0            NaN  \n",
       "1   -89.98715446  \n",
       "2            NaN  \n",
       "3            NaN  \n",
       "4   -90.06907651  "
      ]
     },
     "execution_count": 51,
     "metadata": {},
     "output_type": "execute_result"
    }
   ],
   "source": [
    "#Convert TimeCreate, TimeDispatch, and TimeArrival to datetime\n",
    "Calls2018_df['TimeCreate'] = pd.to_datetime(Calls2018_df['TimeCreate'],infer_datetime_format=True)\n",
    "Calls2018_df['TimeDispatch'] = pd.to_datetime(Calls2018_df['TimeDispatch'],infer_datetime_format=True)\n",
    "Calls2018_df['TimeArrive'] = pd.to_datetime(Calls2018_df['TimeArrive'],infer_datetime_format=True)\n",
    "#Remove all rows with years that are not 2019\n",
    "Calls2018_df = Calls2018_df[(Calls2018_df['TimeCreate'].dt.year == 2018)]\n",
    "#replace missing data\n",
    "Calls2018_df.head()"
   ]
  },
  {
   "cell_type": "markdown",
   "metadata": {},
   "source": [
    "### 2019 911 Calls Dataset"
   ]
  },
  {
   "cell_type": "code",
   "execution_count": 52,
   "metadata": {},
   "outputs": [],
   "source": [
    "Calls2019_df = pd.read_csv(\"../Calls_for_Service_2019.csv\",low_memory=False)"
   ]
  },
  {
   "cell_type": "code",
   "execution_count": 53,
   "metadata": {},
   "outputs": [],
   "source": [
    "#Tidy data by dropping columns that won't be used (NOPD_Item, MapX, MapY, TimeClosed, Beat, Location)\n",
    "del Calls2019_df['NOPD_Item']\n",
    "del Calls2019_df['MapX']\n",
    "del Calls2019_df['MapY']\n",
    "del Calls2019_df['TimeClosed']\n",
    "del Calls2019_df['Beat']"
   ]
  },
  {
   "cell_type": "code",
   "execution_count": 54,
   "metadata": {},
   "outputs": [],
   "source": [
    "Calls2019_df[['Latitude','Longitude']] = Calls2019_df.Location.str.split(\",\",expand=True) \n",
    "#Remove location column\n",
    "del Calls2019_df['Location']\n",
    "#Strip parentheses from left and right side\n",
    "Calls2019_df['Latitude'] = Calls2019_df['Latitude'].replace(to_replace='\\(', value=\"\", regex=True)\n",
    "Calls2019_df['Longitude'] = Calls2019_df['Longitude'].replace(to_replace='\\)', value=\"\", regex=True)"
   ]
  },
  {
   "cell_type": "code",
   "execution_count": 55,
   "metadata": {},
   "outputs": [
    {
     "data": {
      "text/html": [
       "<div>\n",
       "<style scoped>\n",
       "    .dataframe tbody tr th:only-of-type {\n",
       "        vertical-align: middle;\n",
       "    }\n",
       "\n",
       "    .dataframe tbody tr th {\n",
       "        vertical-align: top;\n",
       "    }\n",
       "\n",
       "    .dataframe thead th {\n",
       "        text-align: right;\n",
       "    }\n",
       "</style>\n",
       "<table border=\"1\" class=\"dataframe\">\n",
       "  <thead>\n",
       "    <tr style=\"text-align: right;\">\n",
       "      <th></th>\n",
       "      <th>Type</th>\n",
       "      <th>TypeText</th>\n",
       "      <th>Priority</th>\n",
       "      <th>TimeCreate</th>\n",
       "      <th>TimeDispatch</th>\n",
       "      <th>TimeArrival</th>\n",
       "      <th>Disposition</th>\n",
       "      <th>DispositionText</th>\n",
       "      <th>InitialType</th>\n",
       "      <th>InitialTypeText</th>\n",
       "      <th>InitialPriority</th>\n",
       "      <th>SelfInitiated</th>\n",
       "      <th>BLOCK_ADDRESS</th>\n",
       "      <th>Zip</th>\n",
       "      <th>PoliceDistrict</th>\n",
       "      <th>Latitude</th>\n",
       "      <th>Longitude</th>\n",
       "    </tr>\n",
       "  </thead>\n",
       "  <tbody>\n",
       "    <tr>\n",
       "      <th>0</th>\n",
       "      <td>22A</td>\n",
       "      <td>AREA CHECK</td>\n",
       "      <td>1K</td>\n",
       "      <td>2019-04-30 00:21:44</td>\n",
       "      <td>2019-04-30 00:21:44</td>\n",
       "      <td>2019-04-30 00:21:44</td>\n",
       "      <td>NAT</td>\n",
       "      <td>Necessary Action Taken</td>\n",
       "      <td>22A</td>\n",
       "      <td>AREA CHECK</td>\n",
       "      <td>1K</td>\n",
       "      <td>Y</td>\n",
       "      <td>W Harrison Ave &amp; Bellaire Dr</td>\n",
       "      <td>70124</td>\n",
       "      <td>3</td>\n",
       "      <td>30.00592151</td>\n",
       "      <td>-90.12148943</td>\n",
       "    </tr>\n",
       "    <tr>\n",
       "      <th>1</th>\n",
       "      <td>100</td>\n",
       "      <td>HIT &amp; RUN</td>\n",
       "      <td>1G</td>\n",
       "      <td>2019-05-21 09:42:41</td>\n",
       "      <td>2019-05-21 10:35:28</td>\n",
       "      <td>2019-05-21 11:01:40</td>\n",
       "      <td>RTF</td>\n",
       "      <td>REPORT TO FOLLOW</td>\n",
       "      <td>20</td>\n",
       "      <td>AUTO ACCIDENT</td>\n",
       "      <td>1E</td>\n",
       "      <td>N</td>\n",
       "      <td>I-10 E &amp; Bullard Ave</td>\n",
       "      <td>70128</td>\n",
       "      <td>7</td>\n",
       "      <td>30.04605199</td>\n",
       "      <td>-89.96117169</td>\n",
       "    </tr>\n",
       "    <tr>\n",
       "      <th>2</th>\n",
       "      <td>103D</td>\n",
       "      <td>DOMESTIC DISTURBANCE</td>\n",
       "      <td>2C</td>\n",
       "      <td>2019-05-26 18:06:30</td>\n",
       "      <td>2019-05-26 18:06:30</td>\n",
       "      <td>2019-05-26 18:06:30</td>\n",
       "      <td>RTF</td>\n",
       "      <td>REPORT TO FOLLOW</td>\n",
       "      <td>103D</td>\n",
       "      <td>DOMESTIC DISTURBANCE</td>\n",
       "      <td>2C</td>\n",
       "      <td>Y</td>\n",
       "      <td>014XX Blk N Claiborne Ave</td>\n",
       "      <td>70116</td>\n",
       "      <td>1</td>\n",
       "      <td>29.96972427</td>\n",
       "      <td>-90.06804479</td>\n",
       "    </tr>\n",
       "    <tr>\n",
       "      <th>3</th>\n",
       "      <td>21</td>\n",
       "      <td>COMPLAINT OTHER</td>\n",
       "      <td>1J</td>\n",
       "      <td>2019-05-27 08:31:22</td>\n",
       "      <td>2019-05-27 08:56:11</td>\n",
       "      <td>2019-05-27 09:01:23</td>\n",
       "      <td>RTF</td>\n",
       "      <td>REPORT TO FOLLOW</td>\n",
       "      <td>107</td>\n",
       "      <td>SUSPICIOUS PERSON</td>\n",
       "      <td>2C</td>\n",
       "      <td>N</td>\n",
       "      <td>067XX Tara Ln</td>\n",
       "      <td>70127</td>\n",
       "      <td>7</td>\n",
       "      <td>30.02920606</td>\n",
       "      <td>-89.98412043</td>\n",
       "    </tr>\n",
       "    <tr>\n",
       "      <th>4</th>\n",
       "      <td>100</td>\n",
       "      <td>HIT &amp; RUN</td>\n",
       "      <td>1G</td>\n",
       "      <td>2019-05-27 10:48:20</td>\n",
       "      <td>2019-05-27 12:03:40</td>\n",
       "      <td>2019-05-27 12:10:19</td>\n",
       "      <td>RTF</td>\n",
       "      <td>REPORT TO FOLLOW</td>\n",
       "      <td>100</td>\n",
       "      <td>HIT &amp; RUN</td>\n",
       "      <td>1G</td>\n",
       "      <td>N</td>\n",
       "      <td>Dumaine St &amp; N Claiborne Ave</td>\n",
       "      <td>70116</td>\n",
       "      <td>1</td>\n",
       "      <td>29.96548069</td>\n",
       "      <td>-90.07182503</td>\n",
       "    </tr>\n",
       "  </tbody>\n",
       "</table>\n",
       "</div>"
      ],
      "text/plain": [
       "   Type              TypeText Priority          TimeCreate  \\\n",
       "0   22A            AREA CHECK       1K 2019-04-30 00:21:44   \n",
       "1   100             HIT & RUN       1G 2019-05-21 09:42:41   \n",
       "2  103D  DOMESTIC DISTURBANCE       2C 2019-05-26 18:06:30   \n",
       "3    21       COMPLAINT OTHER       1J 2019-05-27 08:31:22   \n",
       "4   100             HIT & RUN       1G 2019-05-27 10:48:20   \n",
       "\n",
       "         TimeDispatch         TimeArrival Disposition         DispositionText  \\\n",
       "0 2019-04-30 00:21:44 2019-04-30 00:21:44         NAT  Necessary Action Taken   \n",
       "1 2019-05-21 10:35:28 2019-05-21 11:01:40         RTF        REPORT TO FOLLOW   \n",
       "2 2019-05-26 18:06:30 2019-05-26 18:06:30         RTF        REPORT TO FOLLOW   \n",
       "3 2019-05-27 08:56:11 2019-05-27 09:01:23         RTF        REPORT TO FOLLOW   \n",
       "4 2019-05-27 12:03:40 2019-05-27 12:10:19         RTF        REPORT TO FOLLOW   \n",
       "\n",
       "  InitialType       InitialTypeText InitialPriority SelfInitiated  \\\n",
       "0         22A            AREA CHECK              1K             Y   \n",
       "1          20         AUTO ACCIDENT              1E             N   \n",
       "2        103D  DOMESTIC DISTURBANCE              2C             Y   \n",
       "3         107     SUSPICIOUS PERSON              2C             N   \n",
       "4         100             HIT & RUN              1G             N   \n",
       "\n",
       "                  BLOCK_ADDRESS    Zip  PoliceDistrict     Latitude  \\\n",
       "0  W Harrison Ave & Bellaire Dr  70124               3  30.00592151   \n",
       "1          I-10 E & Bullard Ave  70128               7  30.04605199   \n",
       "2     014XX Blk N Claiborne Ave  70116               1  29.96972427   \n",
       "3                 067XX Tara Ln  70127               7  30.02920606   \n",
       "4  Dumaine St & N Claiborne Ave  70116               1  29.96548069   \n",
       "\n",
       "       Longitude  \n",
       "0   -90.12148943  \n",
       "1   -89.96117169  \n",
       "2   -90.06804479  \n",
       "3   -89.98412043  \n",
       "4   -90.07182503  "
      ]
     },
     "execution_count": 55,
     "metadata": {},
     "output_type": "execute_result"
    }
   ],
   "source": [
    "#Calls2019_df.dtypes\n",
    "#Convert TimeCreate, TimeDispatch, and TimeArrival to datetime\n",
    "Calls2019_df['TimeCreate'] = pd.to_datetime(Calls2019_df['TimeCreate'],infer_datetime_format=True)\n",
    "Calls2019_df['TimeDispatch'] = pd.to_datetime(Calls2019_df['TimeDispatch'],infer_datetime_format=True)\n",
    "Calls2019_df['TimeArrival'] = pd.to_datetime(Calls2019_df['TimeArrival'],infer_datetime_format=True)\n",
    "#Remove all rows with years that are not 2019\n",
    "Calls2019_df = Calls2019_df[(Calls2019_df['TimeCreate'].dt.year == 2019)]\n",
    "#replace missing data\n",
    "Calls2019_df.head()"
   ]
  },
  {
   "cell_type": "markdown",
   "metadata": {},
   "source": [
    "This dataset reflects incidents that have been reported to the New Orleans Police Department in 2020. Data is provided by Orleans Parish Communication District (OPCD), the administrative office of 9-1-1 for the City of New Orleans."
   ]
  },
  {
   "cell_type": "markdown",
   "metadata": {},
   "source": [
    "### 2020 911 Calls Dataset"
   ]
  },
  {
   "cell_type": "code",
   "execution_count": 56,
   "metadata": {},
   "outputs": [],
   "source": [
    "Calls2020_df = pd.read_csv(\"../Call_for_Service_2020.csv\")"
   ]
  },
  {
   "cell_type": "code",
   "execution_count": 57,
   "metadata": {},
   "outputs": [],
   "source": [
    "#Tidy data by dropping columns that won't be used (NOPD_Item, MapX, MapY, TimeClosed, Beat, Location)\n",
    "del Calls2020_df['NOPD_Item']\n",
    "del Calls2020_df['MapX']\n",
    "del Calls2020_df['MapY']\n",
    "del Calls2020_df['TimeClosed']\n",
    "del Calls2020_df['Beat']\n"
   ]
  },
  {
   "cell_type": "code",
   "execution_count": 58,
   "metadata": {},
   "outputs": [],
   "source": [
    "#Clean up location column to get Latitude and Longitude columns\n",
    "Calls2020_df['Location'] = Calls2020_df['Location'].replace(to_replace='POINT ', value=\"\", regex=True)\n",
    "Calls2020_df[['Longitude','Latitude']] = Calls2020_df.Location.str.split(\" \",expand=True)\n",
    "#Remove location column\n",
    "del Calls2020_df['Location']\n",
    "#Strip parentheses from left and right side\n",
    "Calls2020_df['Longitude'] = Calls2020_df['Longitude'].replace(to_replace='\\(', value=\"\", regex=True)\n",
    "Calls2020_df['Latitude'] = Calls2020_df['Latitude'].replace(to_replace='\\)', value=\"\", regex=True)"
   ]
  },
  {
   "cell_type": "code",
   "execution_count": null,
   "metadata": {},
   "outputs": [],
   "source": [
    "#Calls2020_df.dtypes\n",
    "#Convert TimeCreate, TimeDispatch, and TimeArrive to datetime\n",
    "Calls2020_df['TimeCreate'] = pd.to_datetime(Calls2020_df['TimeCreate'],infer_datetime_format=True)\n",
    "Calls2020_df['TimeDispatch'] = pd.to_datetime(Calls2020_df['TimeDispatch'],infer_datetime_format=True)\n",
    "Calls2020_df['TimeArrive'] = pd.to_datetime(Calls2020_df['TimeArrive'],infer_datetime_format=True)\n",
    "\n",
    "#replace missing data\n",
    "Calls2020_df.head()"
   ]
  },
  {
   "cell_type": "markdown",
   "metadata": {},
   "source": [
    "A challenge I came across when transforming the data was converting from string to datetime.  Due to how large this dataset is, it was taking over 10 minutes to complete the conversion.  This is because pandas uses dateutil.parser.parse for parsing the strings when it has a non-default format or when no format string is supplied. I was able to speed up the process a bit by adding the parameter \"infer_datetime_format=True\"."
   ]
  },
  {
   "cell_type": "markdown",
   "metadata": {},
   "source": [
    "### Number of passengers deplaned (arriving) at MSY Airport by Month for March 2018- August 2020"
   ]
  },
  {
   "cell_type": "markdown",
   "metadata": {},
   "source": [
    "A challenge we knew we were going to face was the issue of population swelling. Due to coronavirus, we knew there would be a significant decrease in New Orleans population due to cancellation of tourist events and restrictions on travel.  To try to estimate populations during each month, we have collected data on number of passengers arriving at MSY airport during each month from March 2018 - August 2020 (as far as data would go).  We will merge this data with our 911 calls data so we can calculate 911 calls per 100,000 people. This should make our data analysis more realistic and account for unequal population sizes."
   ]
  },
  {
   "cell_type": "code",
   "execution_count": null,
   "metadata": {},
   "outputs": [],
   "source": [
    "Air_arrivals = pd.read_csv(\"../arrivals_data.csv\")\n",
    "Air_arrivals"
   ]
  },
  {
   "cell_type": "markdown",
   "metadata": {},
   "source": [
    "### COVID-19 Cases Per Day in Louisiana Dataset"
   ]
  },
  {
   "cell_type": "code",
   "execution_count": null,
   "metadata": {},
   "outputs": [],
   "source": [
    "LA_cases = pd.read_csv(\"../louisiana-history.csv\")\n",
    "data = {'Date': LA_cases['date'], \n",
    "        'Cases per day': LA_cases['positiveIncrease']\n",
    "       } \n",
    "  \n",
    "# Convert the dictionary into DataFrame \n",
    "LA_cases_by_day = pd.DataFrame(data) \n",
    "LA_cases_by_day['Date'] = pd.to_datetime(LA_cases_by_day['Date'],infer_datetime_format=True)\n",
    "LA_cases_by_day = LA_cases_by_day.set_index('Date')\n",
    "LA_cases_by_day.head()"
   ]
  },
  {
   "cell_type": "code",
   "execution_count": null,
   "metadata": {},
   "outputs": [],
   "source": [
    "LA_cases_by_day.plot(figsize = (20,8))"
   ]
  },
  {
   "cell_type": "markdown",
   "metadata": {},
   "source": [
    "Trends: spikes Highest spikes in April, July, November"
   ]
  },
  {
   "cell_type": "markdown",
   "metadata": {},
   "source": [
    "### Graph to show number of 911 calls per month for 2018, 2019, 2020"
   ]
  },
  {
   "cell_type": "code",
   "execution_count": null,
   "metadata": {},
   "outputs": [],
   "source": [
    "Calls2018_df = Calls2018_df.copy()\n",
    "Calls2018_df = Calls2018_df.rename(columns={'TimeArrive': 'TimeArrival'})\n",
    "Calls2018_df['Year'] = Calls2018_df['TimeCreate'].dt.year\n",
    "Calls2018_df['Date'] = Calls2018_df['TimeCreate'].dt.date\n",
    "Calls2018_df['Month'] = Calls2018_df['TimeCreate'].dt.month\n",
    "CallsbyMonth2018 = Calls2018_df[Calls2018_df['Month'] <= 8]\n",
    "CallsbyMonth2018 = Calls2018_df[Calls2018_df['Month'] >= 3]\n",
    "\n",
    "Calls2019_df = Calls2019_df.copy()\n",
    "Calls2019_df['Year'] = Calls2019_df['TimeCreate'].dt.year\n",
    "Calls2019_df['Date'] = Calls2019_df['TimeCreate'].dt.date\n",
    "Calls2019_df['Month'] = Calls2019_df['TimeCreate'].dt.month\n",
    "CallsbyMonth2019 = Calls2019_df[Calls2019_df['Month'] <= 8]\n",
    "CallsbyMonth2019 = Calls2019_df[Calls2019_df['Month'] >= 3]\n",
    "\n",
    "Calls2020_df = Calls2020_df.copy()\n",
    "Calls2020_df = Calls2020_df.rename(columns={'TimeArrive': 'TimeArrival'})\n",
    "Calls2020_df['Year'] = Calls2020_df['TimeCreate'].dt.year\n",
    "Calls2020_df['Date'] = Calls2020_df['TimeCreate'].dt.date\n",
    "Calls2020_df['Month'] = Calls2020_df['TimeCreate'].dt.month\n",
    "CallsbyMonth2020 = Calls2020_df[Calls2020_df['Month'] <= 8]\n",
    "CallsbyMonth2020 = Calls2020_df[Calls2020_df['Month'] >= 3]\n",
    "\n",
    "CallsbyMonth = CallsbyMonth2018.append(CallsbyMonth2019)\n",
    "CallsbyMonth = CallsbyMonth.append(CallsbyMonth2020)\n",
    "CallsbyMonth = CallsbyMonth.reset_index()\n",
    "CallsbyMonth[\"Month\"] = CallsbyMonth[\"Month\"].map({\n",
    "\n",
    "       3: \"March\",\n",
    "       4: \"Apr\",\n",
    "       5: \"May\",\n",
    "       6: \"June\",\n",
    "       7: \"July\",\n",
    "       8: \"Aug\",\n",
    "\n",
    "})\n",
    "\n",
    "CallsbyMonth.head()\n"
   ]
  },
  {
   "cell_type": "code",
   "execution_count": null,
   "metadata": {},
   "outputs": [],
   "source": [
    "import matplotlib\n",
    "import matplotlib.pyplot as plt\n",
    "import numpy as np\n",
    "\n",
    "result = CallsbyMonth.pivot_table(index='Month', \n",
    "                        columns='Year', values='TypeText', aggfunc='count')"
   ]
  },
  {
   "cell_type": "code",
   "execution_count": null,
   "metadata": {},
   "outputs": [],
   "source": [
    "flattened = pd.DataFrame(result.to_records())\n",
    "std_number_calls = flattened.merge(Air_arrivals, on='Month')"
   ]
  },
  {
   "cell_type": "code",
   "execution_count": null,
   "metadata": {},
   "outputs": [],
   "source": [
    "std_number_calls['Calls per 100,000 2018'] = (std_number_calls['2018']/std_number_calls['Total Pop 2018'])*100000\n",
    "std_number_calls['Calls per 100,000 2019'] = (std_number_calls['2019']/std_number_calls['Total Pop 2019'])*100000\n",
    "std_number_calls['Calls per 100,000 2020'] = (std_number_calls['2020']/std_number_calls['Total Pop 2020'])*100000"
   ]
  },
  {
   "cell_type": "code",
   "execution_count": null,
   "metadata": {},
   "outputs": [],
   "source": [
    "result = std_number_calls.pivot_table(index='Month', \n",
    "                                      values=['Calls per 100,000 2018',\n",
    "                                              'Calls per 100,000 2019',\n",
    "                                              'Calls per 100,000 2020'])\n",
    "\n",
    "monthOrder = ['March', 'Apr', 'May', 'June', 'July', 'Aug']\n",
    "ax = result.loc[monthOrder].plot(kind=\"bar\", legend=True, \n",
    "                                 title =\"Number of Calls Per 100,000 People\", figsize=(20, 8), fontsize=16)\n",
    "plt.xlabel(\"Month\")\n",
    "plt.ylabel(\"Number of Calls\")\n",
    "plt.show()"
   ]
  },
  {
   "cell_type": "markdown",
   "metadata": {},
   "source": [
    "This graph shows the number of calls made per 100,000 people in the months of March through August in 2018, 2019, and 2020.  As we predicted, more calls were made per 100,000 people during the spikes of the pandemic.  Things do even out in August though, as restricitions are lifted."
   ]
  },
  {
   "cell_type": "markdown",
   "metadata": {},
   "source": [
    "### Top 10 Types of 911 Calls in April 2019"
   ]
  },
  {
   "cell_type": "code",
   "execution_count": null,
   "metadata": {},
   "outputs": [],
   "source": [
    "from IPython.display import display_html\n",
    "def display_side_by_side(*args):\n",
    "    html_str=''\n",
    "    for df in args:\n",
    "        html_str+=df.to_html()\n",
    "    display_html(html_str.replace('table','table style=\"display:inline\"'),raw=True)"
   ]
  },
  {
   "cell_type": "code",
   "execution_count": null,
   "metadata": {},
   "outputs": [],
   "source": [
    "TopCalls_2018 = CallsbyMonth2018.loc[ \n",
    "                                 (CallsbyMonth2018['TypeText'] != 'AREA CHECK') \n",
    "                                 & (CallsbyMonth2018['TypeText'] != 'BUSINESS CHECK')\n",
    "                                 & (CallsbyMonth2018['TypeText'] != 'COMPLAINT OTHER') \n",
    "                                 & (CallsbyMonth2018['TypeText'] != 'RETURN FOR ADDITIONAL INFO')\n",
    "                                & (CallsbyMonth2018['TypeText'] != 'DISTURBANCE (OTHER)')]\n",
    "TopCalls_2018 = TopCalls_2018['TypeText'].value_counts()[:10].rename_axis('2018').to_frame('counts')\n",
    "\n",
    "TopCalls_2019 = CallsbyMonth2019.loc[\n",
    "                                 (CallsbyMonth2019['TypeText'] != 'AREA CHECK') \n",
    "                                 & (CallsbyMonth2019['TypeText'] != 'BUSINESS CHECK')\n",
    "                                 & (CallsbyMonth2019['TypeText'] != 'COMPLAINT OTHER') \n",
    "                                 & (CallsbyMonth2019['TypeText'] != 'RETURN FOR ADDITIONAL INFO')\n",
    "                                & (CallsbyMonth2019['TypeText'] != 'DISTURBANCE (OTHER)')]\n",
    "TopCalls_2019 = TopCalls_2019['TypeText'].value_counts()[:10].rename_axis('2019').to_frame('counts')\n",
    "\n",
    "TopCalls_2020 = CallsbyMonth2020.loc[\n",
    "                                 (CallsbyMonth2020['TypeText'] != 'AREA CHECK') \n",
    "                                 & (CallsbyMonth2020['TypeText'] != 'BUSINESS CHECK')\n",
    "                                 & (CallsbyMonth2020['TypeText'] != 'COMPLAINT OTHER') \n",
    "                                 & (CallsbyMonth2020['TypeText'] != 'RETURN FOR ADDITIONAL INFO')\n",
    "                                & (CallsbyMonth2020['TypeText'] != 'DISTURBANCE (OTHER)')]\n",
    "TopCalls_2020 = TopCalls_2020['TypeText'].value_counts()[:10].rename_axis('2020').to_frame('counts')\n",
    "\n",
    "display_side_by_side(TopCalls_2018,TopCalls_2019,TopCalls_2020)"
   ]
  },
  {
   "cell_type": "markdown",
   "metadata": {},
   "source": [
    "The tables above show the top types of calls made in 2018, 2019, and 2020.  It does not appear they vary too greatly.  However, we can see tthat traffic incidents are not a top call in 2020 while public gatherings and mental patient are.  We can be sure that public gatherings is a result of the pandemic.  We can speculate that mental patient is now a top call in 2020 due the depressing reality that is lockdown and disease; however, that is purely speculation."
   ]
  },
  {
   "cell_type": "markdown",
   "metadata": {},
   "source": [
    "### Map of Locations of 911 Calls for Public Gatherings in April 2020"
   ]
  },
  {
   "cell_type": "code",
   "execution_count": null,
   "metadata": {},
   "outputs": [],
   "source": [
    "!pip install folium"
   ]
  },
  {
   "cell_type": "code",
   "execution_count": null,
   "metadata": {},
   "outputs": [],
   "source": [
    "import folium"
   ]
  },
  {
   "cell_type": "code",
   "execution_count": null,
   "metadata": {},
   "outputs": [],
   "source": [
    "April2020 = CallsbyMonth2020.loc[(CallsbyMonth2020['Month'] == 4)& (CallsbyMonth2020['TypeText'] == 'PUBLIC GATHERING')]\n",
    "locations = April2020[['Latitude', 'Longitude']].dropna()\n",
    "locationlist = locations.values.tolist()\n",
    "len(locationlist)"
   ]
  },
  {
   "cell_type": "code",
   "execution_count": null,
   "metadata": {
    "scrolled": true
   },
   "outputs": [],
   "source": [
    "from folium.plugins import FastMarkerCluster\n",
    "\n",
    "NOLA_location = [29.951065, -90.071533 ]\n",
    "\n",
    "m = folium.Map(location=NOLA_location,\n",
    "               zoom_start=15,\n",
    "               tiles='openstreetmap')\n",
    "\n",
    "m.add_child(FastMarkerCluster(locationlist, name='2020'))\n"
   ]
  },
  {
   "cell_type": "markdown",
   "metadata": {},
   "source": [
    "Looking deeper into this new type of call about Public Gatherings, this visualization shows calls placed about Public Gatherings (608 calls) in April 2020.  Notice the areas with higher number of calls, such as Mid City and Uptown - near Tulane's Campus."
   ]
  },
  {
   "cell_type": "markdown",
   "metadata": {},
   "source": [
    "### Number of Domestic Assault Calls"
   ]
  },
  {
   "cell_type": "code",
   "execution_count": null,
   "metadata": {},
   "outputs": [],
   "source": [
    "DomesticAssault = CallsbyMonth.loc[(CallsbyMonth['TypeText'] == 'AGGRAVATED ASSAULT DOMESTIC')|(CallsbyMonth['TypeText'] == 'SIMPLE ASSAULT DOMESTIC')\n",
    "                               |(CallsbyMonth['TypeText'] == 'CRIMINAL DAMAGE DOMESTIC')|(CallsbyMonth['TypeText'] == 'CRIMINAL MISCHIEF DOMESTIC') \n",
    "                                 |(CallsbyMonth['TypeText'] == 'AGGRAVATED BATTERY DOMESTIC')|(CallsbyMonth['TypeText'] == 'SIMPLE BATTERY DOMESTIC')  ]\n",
    "result = DomesticAssault.pivot_table(index='Month', \n",
    "                        columns='Year', values='TypeText', aggfunc='count')\n"
   ]
  },
  {
   "cell_type": "code",
   "execution_count": null,
   "metadata": {},
   "outputs": [],
   "source": [
    "flattened = pd.DataFrame(result.to_records())\n",
    "std_number_calls = flattened.merge(Air_arrivals, on='Month')"
   ]
  },
  {
   "cell_type": "code",
   "execution_count": null,
   "metadata": {},
   "outputs": [],
   "source": [
    "std_number_calls['Calls per 100,000 2018'] = (std_number_calls['2018']/std_number_calls['Total Pop 2018'])*100000\n",
    "std_number_calls['Calls per 100,000 2019'] = (std_number_calls['2019']/std_number_calls['Total Pop 2019'])*100000\n",
    "std_number_calls['Calls per 100,000 2020'] = (std_number_calls['2020']/std_number_calls['Total Pop 2020'])*100000"
   ]
  },
  {
   "cell_type": "code",
   "execution_count": null,
   "metadata": {},
   "outputs": [],
   "source": [
    "result = std_number_calls.pivot_table(index='Month', \n",
    "                                      values=['Calls per 100,000 2018',\n",
    "                                              'Calls per 100,000 2019',\n",
    "                                              'Calls per 100,000 2020'])\n",
    "\n",
    "monthOrder = ['March', 'Apr', 'May', 'June', 'July', 'Aug']\n",
    "ax = result.loc[monthOrder].plot(kind=\"bar\", legend=True, \n",
    "                                 title =\"Domestic Assault Calls Per 100,000 People\", figsize=(20, 8), fontsize=16)\n",
    "ax.legend(['2018','2019','2020'])\n",
    "\n",
    "plt.xlabel(\"Month\")\n",
    "plt.ylabel(\"Number of Calls\")\n",
    "plt.show()"
   ]
  },
  {
   "cell_type": "markdown",
   "metadata": {},
   "source": [
    "A hypothesis of ours was a possible increase in domestic assault due to mandatory lockdowns at the beginning of the coronavirus spread...this is actually not something we saw in all the months.  We hypothesized this based on the idea that some people may be forced to lockdown in abusive households.  This data suggests that there was an increase in domestic assault and violence.  This suggestion is important because it can help us put out more resources regarding domestic violence now that we see the problem has exacerbated during the pandemic."
   ]
  },
  {
   "cell_type": "markdown",
   "metadata": {},
   "source": [
    "### Violent Crime 2019 vs. 2020"
   ]
  },
  {
   "cell_type": "code",
   "execution_count": null,
   "metadata": {},
   "outputs": [],
   "source": [
    "ViolentCrime = CallsbyMonth[CallsbyMonth['TypeText'].str.contains(\"RAPE\")|CallsbyMonth['TypeText'].str.contains(\"ASSAULT\")\n",
    "                            |CallsbyMonth['TypeText'].str.contains(\"BATTERY\")]\n",
    "result = ViolentCrime.pivot_table(index='Month', \n",
    "                        columns='Year', values='TypeText', aggfunc='count')"
   ]
  },
  {
   "cell_type": "code",
   "execution_count": null,
   "metadata": {},
   "outputs": [],
   "source": [
    "flattened = pd.DataFrame(result.to_records())\n",
    "std_number_calls = flattened.merge(Air_arrivals, on='Month')"
   ]
  },
  {
   "cell_type": "code",
   "execution_count": null,
   "metadata": {},
   "outputs": [],
   "source": [
    "std_number_calls['Calls per 100,000 2018'] = (std_number_calls['2018']/std_number_calls['Total Pop 2018'])*100000\n",
    "std_number_calls['Calls per 100,000 2019'] = (std_number_calls['2019']/std_number_calls['Total Pop 2019'])*100000\n",
    "std_number_calls['Calls per 100,000 2020'] = (std_number_calls['2020']/std_number_calls['Total Pop 2020'])*100000"
   ]
  },
  {
   "cell_type": "code",
   "execution_count": null,
   "metadata": {},
   "outputs": [],
   "source": [
    "result = std_number_calls.pivot_table(index='Month', \n",
    "                                      values=['Calls per 100,000 2018',\n",
    "                                              'Calls per 100,000 2019',\n",
    "                                              'Calls per 100,000 2020'])\n",
    "\n",
    "monthOrder = ['March', 'Apr', 'May', 'June', 'July', 'Aug']\n",
    "ax = result.loc[monthOrder].plot(kind=\"bar\", legend=True, \n",
    "                                 title =\"Violent Crime Calls Per 100,000 People\", figsize=(20, 8), fontsize=16)\n",
    "ax.legend(['2018','2019','2020'])\n",
    "\n",
    "plt.xlabel(\"Month\")\n",
    "plt.ylabel(\"Number of Calls\")\n",
    "plt.show()"
   ]
  },
  {
   "cell_type": "markdown",
   "metadata": {},
   "source": [
    "A hypothesis of ours was a possible decrease in violent crime due to mandatory lockdowns at the beginning of the coronavirus spread.  This data suggest that we are incorrect and that there are more violent crime reports overall in 2020 per 100,000 people.  We can only speculate as to why, but the pandemic introduces a lot of new factors such as loss of employment, mental health issues, and lockdowns. In Aguust, a time where Louisiana moved to Phase 3 and less strict restrictions regarding coronavirus were imposed, we see things start to even out in comparison with 2018 and 2019.  Our data suggests that coronavirus is correlated with more violent crime."
   ]
  },
  {
   "cell_type": "markdown",
   "metadata": {},
   "source": [
    "### Number of Traffic Incident Calls"
   ]
  },
  {
   "cell_type": "code",
   "execution_count": null,
   "metadata": {},
   "outputs": [],
   "source": [
    "TrafficIncidents = CallsbyMonth.loc[(CallsbyMonth['TypeText'] == 'TRAFFIC INCIDENT')]\n",
    "result = TrafficIncidents.pivot_table(index='Month', \n",
    "                        columns='Year', values='TypeText', aggfunc='count')"
   ]
  },
  {
   "cell_type": "code",
   "execution_count": null,
   "metadata": {},
   "outputs": [],
   "source": [
    "flattened = pd.DataFrame(result.to_records())\n",
    "std_number_calls = flattened.merge(Air_arrivals, on='Month')"
   ]
  },
  {
   "cell_type": "code",
   "execution_count": null,
   "metadata": {},
   "outputs": [],
   "source": [
    "std_number_calls['Calls per 100,000 2018'] = (std_number_calls['2018']/std_number_calls['Total Pop 2018'])*100000\n",
    "std_number_calls['Calls per 100,000 2019'] = (std_number_calls['2019']/std_number_calls['Total Pop 2019'])*100000\n",
    "std_number_calls['Calls per 100,000 2020'] = (std_number_calls['2020']/std_number_calls['Total Pop 2020'])*100000"
   ]
  },
  {
   "cell_type": "code",
   "execution_count": null,
   "metadata": {},
   "outputs": [],
   "source": [
    "result = std_number_calls.pivot_table(index='Month', \n",
    "                                      values=['Calls per 100,000 2018',\n",
    "                                              'Calls per 100,000 2019',\n",
    "                                              'Calls per 100,000 2020'])\n",
    "\n",
    "monthOrder = ['March', 'Apr', 'May', 'June', 'July', 'Aug']\n",
    "ax = result.loc[monthOrder].plot(kind=\"bar\", legend=True, \n",
    "                                 title =\"Traffic Incident Calls Per 100,000 People\", figsize=(20, 8), fontsize=16)\n",
    "ax.legend(['2018','2019','2020'])\n",
    "\n",
    "plt.xlabel(\"Month\")\n",
    "plt.ylabel(\"Number of Calls\")\n",
    "plt.show()"
   ]
  },
  {
   "cell_type": "markdown",
   "metadata": {},
   "source": [
    "We hypothesized that traffic incidents would decreased during lockdown due to the most parsimonious explanation that less people would be on the road due to lockdowns.  Our hypothesis turned out to be true for all months.  We were surpised that traffic incident calls did not increase as restrictions began to be lifted in August though.  But, it is important to note that many people still work from home at this time."
   ]
  },
  {
   "cell_type": "markdown",
   "metadata": {},
   "source": [
    "### Number of Suicide Calls"
   ]
  },
  {
   "cell_type": "code",
   "execution_count": null,
   "metadata": {},
   "outputs": [],
   "source": [
    "Suicide = CallsbyMonth.loc[(CallsbyMonth['TypeText'] == 'SUICIDE')]\n",
    "result = Suicide.pivot_table(index='Month', \n",
    "                        columns='Year', values='TypeText', aggfunc='count')"
   ]
  },
  {
   "cell_type": "code",
   "execution_count": null,
   "metadata": {},
   "outputs": [],
   "source": [
    "flattened = pd.DataFrame(result.to_records())\n",
    "std_number_calls = flattened.merge(Air_arrivals, on='Month')"
   ]
  },
  {
   "cell_type": "code",
   "execution_count": null,
   "metadata": {},
   "outputs": [],
   "source": [
    "std_number_calls['Calls per 100,000 2018'] = (std_number_calls['2018']/std_number_calls['Total Pop 2018'])*100000\n",
    "std_number_calls['Calls per 100,000 2019'] = (std_number_calls['2019']/std_number_calls['Total Pop 2019'])*100000\n",
    "std_number_calls['Calls per 100,000 2020'] = (std_number_calls['2020']/std_number_calls['Total Pop 2020'])*100000"
   ]
  },
  {
   "cell_type": "code",
   "execution_count": null,
   "metadata": {},
   "outputs": [],
   "source": [
    "result = std_number_calls.pivot_table(index='Month', \n",
    "                                      values=['Calls per 100,000 2018',\n",
    "                                              'Calls per 100,000 2019',\n",
    "                                              'Calls per 100,000 2020'])\n",
    "\n",
    "monthOrder = ['March', 'Apr', 'May', 'June', 'July', 'Aug']\n",
    "ax = result.loc[monthOrder].plot(kind=\"bar\", legend=True, \n",
    "                                 title =\"Suicide Calls Per 100,000 People\", figsize=(20, 8), fontsize=16)\n",
    "ax.legend(['2018','2019','2020'])\n",
    "\n",
    "plt.xlabel(\"Month\")\n",
    "plt.ylabel(\"Number of Calls\")\n",
    "plt.show()"
   ]
  },
  {
   "cell_type": "markdown",
   "metadata": {},
   "source": [
    "Some positive findings: we do not see an increase in calls reporting suicides.  In fact, aside from March 2018, trends seem to remain fairly even between the past two years."
   ]
  },
  {
   "cell_type": "markdown",
   "metadata": {},
   "source": [
    "### Number of Homelessness Calls"
   ]
  },
  {
   "cell_type": "code",
   "execution_count": null,
   "metadata": {},
   "outputs": [],
   "source": [
    "Homelessness = CallsbyMonth.loc[(CallsbyMonth['TypeText'] == 'HOMELESS')]\n",
    "result = Homelessness.pivot_table(index='Month', \n",
    "                        columns='Year', values='TypeText', aggfunc='count')\n"
   ]
  },
  {
   "cell_type": "code",
   "execution_count": null,
   "metadata": {},
   "outputs": [],
   "source": [
    "flattened = pd.DataFrame(result.to_records())\n",
    "std_number_calls = flattened.merge(Air_arrivals, on='Month')"
   ]
  },
  {
   "cell_type": "code",
   "execution_count": null,
   "metadata": {},
   "outputs": [],
   "source": [
    "std_number_calls['Calls per 100,000 2018'] = (std_number_calls['2018']/std_number_calls['Total Pop 2018'])*100000\n",
    "std_number_calls['Calls per 100,000 2019'] = (std_number_calls['2019']/std_number_calls['Total Pop 2019'])*100000\n",
    "std_number_calls['Calls per 100,000 2020'] = (std_number_calls['2020']/std_number_calls['Total Pop 2020'])*100000"
   ]
  },
  {
   "cell_type": "code",
   "execution_count": null,
   "metadata": {},
   "outputs": [],
   "source": [
    "result = std_number_calls.pivot_table(index='Month', \n",
    "                                      values=['Calls per 100,000 2018',\n",
    "                                              'Calls per 100,000 2019',\n",
    "                                              'Calls per 100,000 2020'])\n",
    "\n",
    "monthOrder = ['March', 'Apr', 'May', 'June', 'July', 'Aug']\n",
    "ax = result.loc[monthOrder].plot(kind=\"bar\", legend=True, \n",
    "                                 title =\"Homelessness Calls Per 100,000 People\", figsize=(20, 8), fontsize=16)\n",
    "ax.legend(['2018','2019','2020'])\n",
    "\n",
    "plt.xlabel(\"Month\")\n",
    "plt.ylabel(\"Number of Calls\")\n",
    "plt.show()"
   ]
  },
  {
   "cell_type": "markdown",
   "metadata": {},
   "source": [
    "Lastly, due to the increased the sheer nature of the virus and economic downfall, we predicted more calls reporting homelessness.  Even with the population in New Orleans shrinking in 2020 due to lack of tourism and travel, we still see significantly more calls at In March, April and May, at the height of lockdowns and during the first spike of the pandemic."
   ]
  },
  {
   "cell_type": "markdown",
   "metadata": {},
   "source": [
    "### Summary and Challenges"
   ]
  },
  {
   "cell_type": "markdown",
   "metadata": {},
   "source": [
    "Our main challenge revolved around the issue that we may be comparing unequal sizes of population in 2018, 2019 and 2020.  Due to this, we chose to standardize our populations by analyzing calls per 100,000 people.  We did this by estimating a total population per month by adding New Orlean's total population each year to the number of arrivals at MSY airport each month. \n",
    "\n",
    "Coronavirus is correlated with a higher number of 911 calls. \n",
    "\n",
    "Data on domestic assault calls accepts our hypothesis that lockdowns would increase domestic assault. [A study also found X-ray evidence points to pandemic lockdowns triggering a surge in cases of domestic violence.](https://www.webmd.com/lung/news/20200818/radiology-study-suggests-horrifying-rise-in-domestic-violence-during-pandemic#1).\n",
    "\n",
    "More violent crime was reported at the height of coronavirus and lockdowns.  Although it is important to keep in mind that a possible confound here could be police violence, rioting, and protests. [Reference](https://www.cnn.com/2020/08/16/us/violent-crime-soars-confidence-in-police-takes-hit/index.html) that supports this.\n",
    "\n",
    "Less traffic incidents during the lockdowns and overall throughout the pandemic.\n",
    "\n",
    "No significant changes in Suicide Calls.\n",
    " \n",
    "More reports of homelessness at the height of pandemic. [Reference](https://www.npr.org/2020/08/10/900766719/millions-of-americans-are-in-danger-of-being-evicted-during-pandemic) that supports this.\n",
    "\n",
    "And of course, a new whole new 911 call category reporting public gatherings!"
   ]
  },
  {
   "cell_type": "code",
   "execution_count": null,
   "metadata": {},
   "outputs": [],
   "source": []
  }
 ],
 "metadata": {
  "kernelspec": {
   "display_name": "Python 3",
   "language": "python",
   "name": "python3"
  },
  "language_info": {
   "codemirror_mode": {
    "name": "ipython",
    "version": 3
   },
   "file_extension": ".py",
   "mimetype": "text/x-python",
   "name": "python",
   "nbconvert_exporter": "python",
   "pygments_lexer": "ipython3",
   "version": "3.8.5"
  }
 },
 "nbformat": 4,
 "nbformat_minor": 4
}
