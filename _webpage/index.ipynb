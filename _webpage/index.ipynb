{
 "cells": [
  {
   "cell_type": "markdown",
   "metadata": {},
   "source": [
    "https://srprinz.github.io/CMPS3160_Final/\n",
    "\n",
    "https://github.com/srprinz/CMPS3160_Final"
   ]
  },
  {
   "cell_type": "markdown",
   "metadata": {},
   "source": [
    "&emsp;&emsp;For our Final Tutorial, I, Annie Donahue, and Shay Prinz, will be working together. We are planning on working with 911 call data from the years 2019 and 2020, and possibly looking backwards to earlier years if it seems necessary, or if we have the time. We would like to manipulate this data to be able to see how different events/phenomena affect either peoples’ ability to call 911, or their willingness to. \n",
    "\n",
    "&emsp;&emsp;For example, we would like to see what the data can tell us about pre-COVID19 911 calls, vs. post COVID19, by comparing the data March of 2020 with April of 2020, and then using March and April 2019 and 2018 as a control factor to see if anything changed. We were also thinking about looking at the 911 call data during times of civil unrest where there was a prominent anti-police sentiment in the U.S. Right now, for example, it would be interesting to see if less people are calling the police as protests calling for police abolishment continue across the country. This data can tell us a lot about the current state of New Orleans as a whole as we will be able to see both crime reporting data and 911 calls related to health issues. These datasets encompass a lot of information, and it may be difficult to filter it in a way that will be easier and more digestible so as to see the true effects of the various events we are trying to center our analysis around.\n",
    "    \n",
    "&emsp;&emsp;A specific challenge Shay came across when transforming the data was converting from string to datetime. Due to how large this dataset is, it was taking over 10 minutes to complete the conversion. This is because pandas uses dateutil.parser.parse for parsing the strings when it has a non-default format or when no format string is supplied. I was able to speed up the process a bit by adding the parameter \"infer_datetime_format=True\".\n",
    "    \n",
    "&emsp;&emsp;We are planning on meeting once a week as a starting point, so as to gauge how much we can get done in one sitting, and make sure we are on a good pace to be able to complete our tutorial in the semester. If need be, we will move up to meeting multiple times a week, especially as we get closer to the end of the semester. Mostly, we will be completing our work on GitHub, and then using the weekly meeting to make a timeline for the next week, and set goals and checkpoints to accomplish before the next time we meet, as well as check in on each others progress and make sure our code and our analyses are compatible. \n",
    "    \n",
    "&emsp;&emsp;We would like to plan at least one big goal to accomplish for each week, which is a hard deadline for us both, as well as a stretch goal that we would ideally get done before the next week, but could be moved up to the next week if it became clear that we didn’t have enough time during that week. This is so as to keep us on a steady track, but also work with both of our busy schedules is knowing that there are some weeks where we may have more time and be able to get  larger bulk of things done, but even in our busier weeks, we would have to get the set goal done, keeping us on a steady movement towards completing the project. Ideally, our weeks will work around Thursdays, as since we are in the service learning portion of the class, we would like to be able to check in during those times with updates to our service learning partner and our class. "
   ]
  },
  {
   "cell_type": "markdown",
   "metadata": {},
   "source": [
    "### 2018 911 Calls Dataset"
   ]
  },
  {
   "cell_type": "code",
   "execution_count": 48,
   "metadata": {},
   "outputs": [],
   "source": [
    "import pandas as pd\n",
    "Calls2018_df = pd.read_csv(\"../Calls_for_Service_2018.csv\",low_memory=False)"
   ]
  },
  {
   "cell_type": "code",
   "execution_count": 49,
   "metadata": {},
   "outputs": [],
   "source": [
    "#Tidy data by dropping columns that won't be used (NOPD_Item, MapX, MapY, TimeClosed, Beat, Location)\n",
    "del Calls2018_df['NOPD_Item']\n",
    "del Calls2018_df['MapX']\n",
    "del Calls2018_df['MapY']\n",
    "del Calls2018_df['TimeClosed']\n",
    "del Calls2018_df['Beat']"
   ]
  },
  {
   "cell_type": "code",
   "execution_count": 50,
   "metadata": {},
   "outputs": [],
   "source": [
    "Calls2018_df[['Latitude','Longitude']] = Calls2018_df.Location.str.split(\",\",expand=True) \n",
    "#Remove location column\n",
    "del Calls2018_df['Location']\n",
    "#Strip parentheses from left and right side\n",
    "Calls2018_df['Latitude'] = Calls2018_df['Latitude'].replace(to_replace='\\(', value=\"\", regex=True)\n",
    "Calls2018_df['Longitude'] = Calls2018_df['Longitude'].replace(to_replace='\\)', value=\"\", regex=True)"
   ]
  },
  {
   "cell_type": "code",
   "execution_count": 51,
   "metadata": {},
   "outputs": [
    {
     "data": {
      "text/html": [
       "<div>\n",
       "<style scoped>\n",
       "    .dataframe tbody tr th:only-of-type {\n",
       "        vertical-align: middle;\n",
       "    }\n",
       "\n",
       "    .dataframe tbody tr th {\n",
       "        vertical-align: top;\n",
       "    }\n",
       "\n",
       "    .dataframe thead th {\n",
       "        text-align: right;\n",
       "    }\n",
       "</style>\n",
       "<table border=\"1\" class=\"dataframe\">\n",
       "  <thead>\n",
       "    <tr style=\"text-align: right;\">\n",
       "      <th></th>\n",
       "      <th>Type_</th>\n",
       "      <th>TypeText</th>\n",
       "      <th>Priority</th>\n",
       "      <th>InitialType</th>\n",
       "      <th>InitialTypeText</th>\n",
       "      <th>InitialPriority</th>\n",
       "      <th>TimeCreate</th>\n",
       "      <th>TimeDispatch</th>\n",
       "      <th>TimeArrive</th>\n",
       "      <th>Disposition</th>\n",
       "      <th>DispositionText</th>\n",
       "      <th>SelfInitiated</th>\n",
       "      <th>BLOCK_ADDRESS</th>\n",
       "      <th>Zip</th>\n",
       "      <th>PoliceDistrict</th>\n",
       "      <th>Latitude</th>\n",
       "      <th>Longitude</th>\n",
       "    </tr>\n",
       "  </thead>\n",
       "  <tbody>\n",
       "    <tr>\n",
       "      <th>0</th>\n",
       "      <td>67C</td>\n",
       "      <td>THEFT FROM EXTERIOR</td>\n",
       "      <td>1A</td>\n",
       "      <td>62C</td>\n",
       "      <td>SIMPLE BURGLARY VEHICLE</td>\n",
       "      <td>1G</td>\n",
       "      <td>2018-01-17 16:10:29</td>\n",
       "      <td>2018-01-18 02:21:51</td>\n",
       "      <td>2018-01-18 02:34:08</td>\n",
       "      <td>GOA</td>\n",
       "      <td>GONE ON ARRIVAL</td>\n",
       "      <td>N</td>\n",
       "      <td>147XX Chef Menteur Hwy</td>\n",
       "      <td>NaN</td>\n",
       "      <td>0</td>\n",
       "      <td>NaN</td>\n",
       "      <td>NaN</td>\n",
       "    </tr>\n",
       "    <tr>\n",
       "      <th>1</th>\n",
       "      <td>103</td>\n",
       "      <td>DISTURBANCE (OTHER)</td>\n",
       "      <td>1C</td>\n",
       "      <td>35</td>\n",
       "      <td>SIMPLE BATTERY</td>\n",
       "      <td>1F</td>\n",
       "      <td>2018-01-25 20:26:48</td>\n",
       "      <td>2018-01-26 00:07:09</td>\n",
       "      <td>2018-01-26 00:10:34</td>\n",
       "      <td>RTF</td>\n",
       "      <td>REPORT TO FOLLOW</td>\n",
       "      <td>N</td>\n",
       "      <td>063XX Stratford Pl</td>\n",
       "      <td>70131.0</td>\n",
       "      <td>4</td>\n",
       "      <td>29.9123282</td>\n",
       "      <td>-89.98715446</td>\n",
       "    </tr>\n",
       "    <tr>\n",
       "      <th>2</th>\n",
       "      <td>18</td>\n",
       "      <td>TRAFFIC INCIDENT</td>\n",
       "      <td>1J</td>\n",
       "      <td>18</td>\n",
       "      <td>TRAFFIC INCIDENT</td>\n",
       "      <td>1J</td>\n",
       "      <td>2018-01-09 01:00:19</td>\n",
       "      <td>2018-01-09 01:01:47</td>\n",
       "      <td>2018-01-09 01:00:19</td>\n",
       "      <td>NAT</td>\n",
       "      <td>Necessary Action Taken</td>\n",
       "      <td>Y</td>\n",
       "      <td>Bourbon St &amp; Iberville St</td>\n",
       "      <td>NaN</td>\n",
       "      <td>0</td>\n",
       "      <td>NaN</td>\n",
       "      <td>NaN</td>\n",
       "    </tr>\n",
       "    <tr>\n",
       "      <th>3</th>\n",
       "      <td>37</td>\n",
       "      <td>AGGRAVATED ASSAULT</td>\n",
       "      <td>1C</td>\n",
       "      <td>103</td>\n",
       "      <td>DISTURBANCE (OTHER)</td>\n",
       "      <td>2A</td>\n",
       "      <td>2018-01-08 01:24:10</td>\n",
       "      <td>2018-01-08 01:25:23</td>\n",
       "      <td>2018-01-08 01:28:28</td>\n",
       "      <td>RTF</td>\n",
       "      <td>REPORT TO FOLLOW</td>\n",
       "      <td>N</td>\n",
       "      <td>007XX Bourbon St</td>\n",
       "      <td>NaN</td>\n",
       "      <td>0</td>\n",
       "      <td>NaN</td>\n",
       "      <td>NaN</td>\n",
       "    </tr>\n",
       "    <tr>\n",
       "      <th>4</th>\n",
       "      <td>63</td>\n",
       "      <td>PROWLER</td>\n",
       "      <td>1A</td>\n",
       "      <td>63</td>\n",
       "      <td>PROWLER</td>\n",
       "      <td>2E</td>\n",
       "      <td>2018-01-25 20:26:53</td>\n",
       "      <td>NaT</td>\n",
       "      <td>NaT</td>\n",
       "      <td>DUP</td>\n",
       "      <td>DUPLICATE</td>\n",
       "      <td>N</td>\n",
       "      <td>006XX N Rampart St</td>\n",
       "      <td>70112.0</td>\n",
       "      <td>1</td>\n",
       "      <td>29.96024903</td>\n",
       "      <td>-90.06907651</td>\n",
       "    </tr>\n",
       "  </tbody>\n",
       "</table>\n",
       "</div>"
      ],
      "text/plain": [
       "  Type_             TypeText Priority InitialType          InitialTypeText  \\\n",
       "0   67C  THEFT FROM EXTERIOR       1A         62C  SIMPLE BURGLARY VEHICLE   \n",
       "1   103  DISTURBANCE (OTHER)       1C          35           SIMPLE BATTERY   \n",
       "2    18     TRAFFIC INCIDENT       1J          18         TRAFFIC INCIDENT   \n",
       "3    37   AGGRAVATED ASSAULT       1C         103      DISTURBANCE (OTHER)   \n",
       "4    63              PROWLER       1A          63                  PROWLER   \n",
       "\n",
       "  InitialPriority          TimeCreate        TimeDispatch          TimeArrive  \\\n",
       "0              1G 2018-01-17 16:10:29 2018-01-18 02:21:51 2018-01-18 02:34:08   \n",
       "1              1F 2018-01-25 20:26:48 2018-01-26 00:07:09 2018-01-26 00:10:34   \n",
       "2              1J 2018-01-09 01:00:19 2018-01-09 01:01:47 2018-01-09 01:00:19   \n",
       "3              2A 2018-01-08 01:24:10 2018-01-08 01:25:23 2018-01-08 01:28:28   \n",
       "4              2E 2018-01-25 20:26:53                 NaT                 NaT   \n",
       "\n",
       "  Disposition         DispositionText SelfInitiated  \\\n",
       "0         GOA         GONE ON ARRIVAL             N   \n",
       "1         RTF        REPORT TO FOLLOW             N   \n",
       "2         NAT  Necessary Action Taken             Y   \n",
       "3         RTF        REPORT TO FOLLOW             N   \n",
       "4         DUP               DUPLICATE             N   \n",
       "\n",
       "               BLOCK_ADDRESS      Zip  PoliceDistrict     Latitude  \\\n",
       "0     147XX Chef Menteur Hwy      NaN               0          NaN   \n",
       "1         063XX Stratford Pl  70131.0               4   29.9123282   \n",
       "2  Bourbon St & Iberville St      NaN               0          NaN   \n",
       "3           007XX Bourbon St      NaN               0          NaN   \n",
       "4         006XX N Rampart St  70112.0               1  29.96024903   \n",
       "\n",
       "       Longitude  \n",
       "0            NaN  \n",
       "1   -89.98715446  \n",
       "2            NaN  \n",
       "3            NaN  \n",
       "4   -90.06907651  "
      ]
     },
     "execution_count": 51,
     "metadata": {},
     "output_type": "execute_result"
    }
   ],
   "source": [
    "#Convert TimeCreate, TimeDispatch, and TimeArrival to datetime\n",
    "Calls2018_df['TimeCreate'] = pd.to_datetime(Calls2018_df['TimeCreate'],infer_datetime_format=True)\n",
    "Calls2018_df['TimeDispatch'] = pd.to_datetime(Calls2018_df['TimeDispatch'],infer_datetime_format=True)\n",
    "Calls2018_df['TimeArrive'] = pd.to_datetime(Calls2018_df['TimeArrive'],infer_datetime_format=True)\n",
    "#Remove all rows with years that are not 2019\n",
    "Calls2018_df = Calls2018_df[(Calls2018_df['TimeCreate'].dt.year == 2018)]\n",
    "#replace missing data\n",
    "Calls2018_df.head()"
   ]
  },
  {
   "cell_type": "markdown",
   "metadata": {},
   "source": [
    "### 2019 911 Calls Dataset"
   ]
  },
  {
   "cell_type": "code",
   "execution_count": 52,
   "metadata": {},
   "outputs": [],
   "source": [
    "Calls2019_df = pd.read_csv(\"../Calls_for_Service_2019.csv\",low_memory=False)"
   ]
  },
  {
   "cell_type": "code",
   "execution_count": 53,
   "metadata": {},
   "outputs": [],
   "source": [
    "#Tidy data by dropping columns that won't be used (NOPD_Item, MapX, MapY, TimeClosed, Beat, Location)\n",
    "del Calls2019_df['NOPD_Item']\n",
    "del Calls2019_df['MapX']\n",
    "del Calls2019_df['MapY']\n",
    "del Calls2019_df['TimeClosed']\n",
    "del Calls2019_df['Beat']"
   ]
  },
  {
   "cell_type": "code",
   "execution_count": 54,
   "metadata": {},
   "outputs": [],
   "source": [
    "Calls2019_df[['Latitude','Longitude']] = Calls2019_df.Location.str.split(\",\",expand=True) \n",
    "#Remove location column\n",
    "del Calls2019_df['Location']\n",
    "#Strip parentheses from left and right side\n",
    "Calls2019_df['Latitude'] = Calls2019_df['Latitude'].replace(to_replace='\\(', value=\"\", regex=True)\n",
    "Calls2019_df['Longitude'] = Calls2019_df['Longitude'].replace(to_replace='\\)', value=\"\", regex=True)"
   ]
  },
  {
   "cell_type": "code",
   "execution_count": 55,
   "metadata": {},
   "outputs": [
    {
     "data": {
      "text/html": [
       "<div>\n",
       "<style scoped>\n",
       "    .dataframe tbody tr th:only-of-type {\n",
       "        vertical-align: middle;\n",
       "    }\n",
       "\n",
       "    .dataframe tbody tr th {\n",
       "        vertical-align: top;\n",
       "    }\n",
       "\n",
       "    .dataframe thead th {\n",
       "        text-align: right;\n",
       "    }\n",
       "</style>\n",
       "<table border=\"1\" class=\"dataframe\">\n",
       "  <thead>\n",
       "    <tr style=\"text-align: right;\">\n",
       "      <th></th>\n",
       "      <th>Type</th>\n",
       "      <th>TypeText</th>\n",
       "      <th>Priority</th>\n",
       "      <th>TimeCreate</th>\n",
       "      <th>TimeDispatch</th>\n",
       "      <th>TimeArrival</th>\n",
       "      <th>Disposition</th>\n",
       "      <th>DispositionText</th>\n",
       "      <th>InitialType</th>\n",
       "      <th>InitialTypeText</th>\n",
       "      <th>InitialPriority</th>\n",
       "      <th>SelfInitiated</th>\n",
       "      <th>BLOCK_ADDRESS</th>\n",
       "      <th>Zip</th>\n",
       "      <th>PoliceDistrict</th>\n",
       "      <th>Latitude</th>\n",
       "      <th>Longitude</th>\n",
       "    </tr>\n",
       "  </thead>\n",
       "  <tbody>\n",
       "    <tr>\n",
       "      <th>0</th>\n",
       "      <td>22A</td>\n",
       "      <td>AREA CHECK</td>\n",
       "      <td>1K</td>\n",
       "      <td>2019-04-30 00:21:44</td>\n",
       "      <td>2019-04-30 00:21:44</td>\n",
       "      <td>2019-04-30 00:21:44</td>\n",
       "      <td>NAT</td>\n",
       "      <td>Necessary Action Taken</td>\n",
       "      <td>22A</td>\n",
       "      <td>AREA CHECK</td>\n",
       "      <td>1K</td>\n",
       "      <td>Y</td>\n",
       "      <td>W Harrison Ave &amp; Bellaire Dr</td>\n",
       "      <td>70124</td>\n",
       "      <td>3</td>\n",
       "      <td>30.00592151</td>\n",
       "      <td>-90.12148943</td>\n",
       "    </tr>\n",
       "    <tr>\n",
       "      <th>1</th>\n",
       "      <td>100</td>\n",
       "      <td>HIT &amp; RUN</td>\n",
       "      <td>1G</td>\n",
       "      <td>2019-05-21 09:42:41</td>\n",
       "      <td>2019-05-21 10:35:28</td>\n",
       "      <td>2019-05-21 11:01:40</td>\n",
       "      <td>RTF</td>\n",
       "      <td>REPORT TO FOLLOW</td>\n",
       "      <td>20</td>\n",
       "      <td>AUTO ACCIDENT</td>\n",
       "      <td>1E</td>\n",
       "      <td>N</td>\n",
       "      <td>I-10 E &amp; Bullard Ave</td>\n",
       "      <td>70128</td>\n",
       "      <td>7</td>\n",
       "      <td>30.04605199</td>\n",
       "      <td>-89.96117169</td>\n",
       "    </tr>\n",
       "    <tr>\n",
       "      <th>2</th>\n",
       "      <td>103D</td>\n",
       "      <td>DOMESTIC DISTURBANCE</td>\n",
       "      <td>2C</td>\n",
       "      <td>2019-05-26 18:06:30</td>\n",
       "      <td>2019-05-26 18:06:30</td>\n",
       "      <td>2019-05-26 18:06:30</td>\n",
       "      <td>RTF</td>\n",
       "      <td>REPORT TO FOLLOW</td>\n",
       "      <td>103D</td>\n",
       "      <td>DOMESTIC DISTURBANCE</td>\n",
       "      <td>2C</td>\n",
       "      <td>Y</td>\n",
       "      <td>014XX Blk N Claiborne Ave</td>\n",
       "      <td>70116</td>\n",
       "      <td>1</td>\n",
       "      <td>29.96972427</td>\n",
       "      <td>-90.06804479</td>\n",
       "    </tr>\n",
       "    <tr>\n",
       "      <th>3</th>\n",
       "      <td>21</td>\n",
       "      <td>COMPLAINT OTHER</td>\n",
       "      <td>1J</td>\n",
       "      <td>2019-05-27 08:31:22</td>\n",
       "      <td>2019-05-27 08:56:11</td>\n",
       "      <td>2019-05-27 09:01:23</td>\n",
       "      <td>RTF</td>\n",
       "      <td>REPORT TO FOLLOW</td>\n",
       "      <td>107</td>\n",
       "      <td>SUSPICIOUS PERSON</td>\n",
       "      <td>2C</td>\n",
       "      <td>N</td>\n",
       "      <td>067XX Tara Ln</td>\n",
       "      <td>70127</td>\n",
       "      <td>7</td>\n",
       "      <td>30.02920606</td>\n",
       "      <td>-89.98412043</td>\n",
       "    </tr>\n",
       "    <tr>\n",
       "      <th>4</th>\n",
       "      <td>100</td>\n",
       "      <td>HIT &amp; RUN</td>\n",
       "      <td>1G</td>\n",
       "      <td>2019-05-27 10:48:20</td>\n",
       "      <td>2019-05-27 12:03:40</td>\n",
       "      <td>2019-05-27 12:10:19</td>\n",
       "      <td>RTF</td>\n",
       "      <td>REPORT TO FOLLOW</td>\n",
       "      <td>100</td>\n",
       "      <td>HIT &amp; RUN</td>\n",
       "      <td>1G</td>\n",
       "      <td>N</td>\n",
       "      <td>Dumaine St &amp; N Claiborne Ave</td>\n",
       "      <td>70116</td>\n",
       "      <td>1</td>\n",
       "      <td>29.96548069</td>\n",
       "      <td>-90.07182503</td>\n",
       "    </tr>\n",
       "  </tbody>\n",
       "</table>\n",
       "</div>"
      ],
      "text/plain": [
       "   Type              TypeText Priority          TimeCreate  \\\n",
       "0   22A            AREA CHECK       1K 2019-04-30 00:21:44   \n",
       "1   100             HIT & RUN       1G 2019-05-21 09:42:41   \n",
       "2  103D  DOMESTIC DISTURBANCE       2C 2019-05-26 18:06:30   \n",
       "3    21       COMPLAINT OTHER       1J 2019-05-27 08:31:22   \n",
       "4   100             HIT & RUN       1G 2019-05-27 10:48:20   \n",
       "\n",
       "         TimeDispatch         TimeArrival Disposition         DispositionText  \\\n",
       "0 2019-04-30 00:21:44 2019-04-30 00:21:44         NAT  Necessary Action Taken   \n",
       "1 2019-05-21 10:35:28 2019-05-21 11:01:40         RTF        REPORT TO FOLLOW   \n",
       "2 2019-05-26 18:06:30 2019-05-26 18:06:30         RTF        REPORT TO FOLLOW   \n",
       "3 2019-05-27 08:56:11 2019-05-27 09:01:23         RTF        REPORT TO FOLLOW   \n",
       "4 2019-05-27 12:03:40 2019-05-27 12:10:19         RTF        REPORT TO FOLLOW   \n",
       "\n",
       "  InitialType       InitialTypeText InitialPriority SelfInitiated  \\\n",
       "0         22A            AREA CHECK              1K             Y   \n",
       "1          20         AUTO ACCIDENT              1E             N   \n",
       "2        103D  DOMESTIC DISTURBANCE              2C             Y   \n",
       "3         107     SUSPICIOUS PERSON              2C             N   \n",
       "4         100             HIT & RUN              1G             N   \n",
       "\n",
       "                  BLOCK_ADDRESS    Zip  PoliceDistrict     Latitude  \\\n",
       "0  W Harrison Ave & Bellaire Dr  70124               3  30.00592151   \n",
       "1          I-10 E & Bullard Ave  70128               7  30.04605199   \n",
       "2     014XX Blk N Claiborne Ave  70116               1  29.96972427   \n",
       "3                 067XX Tara Ln  70127               7  30.02920606   \n",
       "4  Dumaine St & N Claiborne Ave  70116               1  29.96548069   \n",
       "\n",
       "       Longitude  \n",
       "0   -90.12148943  \n",
       "1   -89.96117169  \n",
       "2   -90.06804479  \n",
       "3   -89.98412043  \n",
       "4   -90.07182503  "
      ]
     },
     "execution_count": 55,
     "metadata": {},
     "output_type": "execute_result"
    }
   ],
   "source": [
    "#Calls2019_df.dtypes\n",
    "#Convert TimeCreate, TimeDispatch, and TimeArrival to datetime\n",
    "Calls2019_df['TimeCreate'] = pd.to_datetime(Calls2019_df['TimeCreate'],infer_datetime_format=True)\n",
    "Calls2019_df['TimeDispatch'] = pd.to_datetime(Calls2019_df['TimeDispatch'],infer_datetime_format=True)\n",
    "Calls2019_df['TimeArrival'] = pd.to_datetime(Calls2019_df['TimeArrival'],infer_datetime_format=True)\n",
    "#Remove all rows with years that are not 2019\n",
    "Calls2019_df = Calls2019_df[(Calls2019_df['TimeCreate'].dt.year == 2019)]\n",
    "#replace missing data\n",
    "Calls2019_df.head()"
   ]
  },
  {
   "cell_type": "markdown",
   "metadata": {},
   "source": [
    "This dataset reflects incidents that have been reported to the New Orleans Police Department in 2020. Data is provided by Orleans Parish Communication District (OPCD), the administrative office of 9-1-1 for the City of New Orleans."
   ]
  },
  {
   "cell_type": "markdown",
   "metadata": {},
   "source": [
    "### 2020 911 Calls Dataset"
   ]
  },
  {
   "cell_type": "code",
   "execution_count": 56,
   "metadata": {},
   "outputs": [],
   "source": [
    "Calls2020_df = pd.read_csv(\"../Call_for_Service_2020.csv\")"
   ]
  },
  {
   "cell_type": "code",
   "execution_count": 57,
   "metadata": {},
   "outputs": [],
   "source": [
    "#Tidy data by dropping columns that won't be used (NOPD_Item, MapX, MapY, TimeClosed, Beat, Location)\n",
    "del Calls2020_df['NOPD_Item']\n",
    "del Calls2020_df['MapX']\n",
    "del Calls2020_df['MapY']\n",
    "del Calls2020_df['TimeClosed']\n",
    "del Calls2020_df['Beat']\n"
   ]
  },
  {
   "cell_type": "code",
   "execution_count": 58,
   "metadata": {},
   "outputs": [],
   "source": [
    "#Clean up location column to get Latitude and Longitude columns\n",
    "Calls2020_df['Location'] = Calls2020_df['Location'].replace(to_replace='POINT ', value=\"\", regex=True)\n",
    "Calls2020_df[['Longitude','Latitude']] = Calls2020_df.Location.str.split(\" \",expand=True)\n",
    "#Remove location column\n",
    "del Calls2020_df['Location']\n",
    "#Strip parentheses from left and right side\n",
    "Calls2020_df['Longitude'] = Calls2020_df['Longitude'].replace(to_replace='\\(', value=\"\", regex=True)\n",
    "Calls2020_df['Latitude'] = Calls2020_df['Latitude'].replace(to_replace='\\)', value=\"\", regex=True)"
   ]
  },
  {
   "cell_type": "code",
   "execution_count": 59,
   "metadata": {},
   "outputs": [
    {
     "data": {
      "text/html": [
       "<div>\n",
       "<style scoped>\n",
       "    .dataframe tbody tr th:only-of-type {\n",
       "        vertical-align: middle;\n",
       "    }\n",
       "\n",
       "    .dataframe tbody tr th {\n",
       "        vertical-align: top;\n",
       "    }\n",
       "\n",
       "    .dataframe thead th {\n",
       "        text-align: right;\n",
       "    }\n",
       "</style>\n",
       "<table border=\"1\" class=\"dataframe\">\n",
       "  <thead>\n",
       "    <tr style=\"text-align: right;\">\n",
       "      <th></th>\n",
       "      <th>Type</th>\n",
       "      <th>TypeText</th>\n",
       "      <th>Priority</th>\n",
       "      <th>InitialType</th>\n",
       "      <th>InitialTypeText</th>\n",
       "      <th>InitialPriority</th>\n",
       "      <th>TimeCreate</th>\n",
       "      <th>TimeDispatch</th>\n",
       "      <th>TimeArrive</th>\n",
       "      <th>Disposition</th>\n",
       "      <th>DispositionText</th>\n",
       "      <th>SelfInitiated</th>\n",
       "      <th>BLOCK_ADDRESS</th>\n",
       "      <th>Zip</th>\n",
       "      <th>PoliceDistrict</th>\n",
       "      <th>Longitude</th>\n",
       "      <th>Latitude</th>\n",
       "    </tr>\n",
       "  </thead>\n",
       "  <tbody>\n",
       "    <tr>\n",
       "      <th>0</th>\n",
       "      <td>94F</td>\n",
       "      <td>FIREWORKS</td>\n",
       "      <td>1A</td>\n",
       "      <td>103</td>\n",
       "      <td>DISTURBANCE (OTHER)</td>\n",
       "      <td>1C</td>\n",
       "      <td>2020-01-01 00:00:34</td>\n",
       "      <td>2020-01-01 02:34:18</td>\n",
       "      <td>NaT</td>\n",
       "      <td>NAT</td>\n",
       "      <td>Necessary Action Taken</td>\n",
       "      <td>N</td>\n",
       "      <td>001XX Blk Riviera Ave</td>\n",
       "      <td>70122</td>\n",
       "      <td>3</td>\n",
       "      <td>-90.0808922</td>\n",
       "      <td>30.0086791</td>\n",
       "    </tr>\n",
       "    <tr>\n",
       "      <th>1</th>\n",
       "      <td>21</td>\n",
       "      <td>COMPLAINT OTHER</td>\n",
       "      <td>1J</td>\n",
       "      <td>21</td>\n",
       "      <td>COMPLAINT OTHER</td>\n",
       "      <td>1J</td>\n",
       "      <td>2020-01-01 00:00:42</td>\n",
       "      <td>2020-01-01 00:00:42</td>\n",
       "      <td>2020-01-01 00:00:42</td>\n",
       "      <td>NAT</td>\n",
       "      <td>Necessary Action Taken</td>\n",
       "      <td>Y</td>\n",
       "      <td>034XX Broadway St</td>\n",
       "      <td>70125</td>\n",
       "      <td>2</td>\n",
       "      <td>-90.10840522</td>\n",
       "      <td>29.95996774</td>\n",
       "    </tr>\n",
       "    <tr>\n",
       "      <th>2</th>\n",
       "      <td>94F</td>\n",
       "      <td>FIREWORKS</td>\n",
       "      <td>1A</td>\n",
       "      <td>94F</td>\n",
       "      <td>FIREWORKS</td>\n",
       "      <td>2J</td>\n",
       "      <td>2020-01-01 00:01:05</td>\n",
       "      <td>2020-01-01 01:49:42</td>\n",
       "      <td>2020-01-01 02:08:17</td>\n",
       "      <td>NAT</td>\n",
       "      <td>Necessary Action Taken</td>\n",
       "      <td>N</td>\n",
       "      <td>026XX Banks St</td>\n",
       "      <td>70119</td>\n",
       "      <td>1</td>\n",
       "      <td>-90.08872937</td>\n",
       "      <td>29.96246347</td>\n",
       "    </tr>\n",
       "    <tr>\n",
       "      <th>3</th>\n",
       "      <td>94</td>\n",
       "      <td>DISCHARGING FIREARM</td>\n",
       "      <td>2D</td>\n",
       "      <td>94</td>\n",
       "      <td>DISCHARGING FIREARM</td>\n",
       "      <td>2D</td>\n",
       "      <td>2020-01-01 00:02:50</td>\n",
       "      <td>2020-01-01 00:02:54</td>\n",
       "      <td>2020-01-01 00:09:13</td>\n",
       "      <td>GOA</td>\n",
       "      <td>GONE ON ARRIVAL</td>\n",
       "      <td>N</td>\n",
       "      <td>Kerlerec St &amp; N Robertson St</td>\n",
       "      <td>70116</td>\n",
       "      <td>1</td>\n",
       "      <td>-90.0669267</td>\n",
       "      <td>29.96960271</td>\n",
       "    </tr>\n",
       "    <tr>\n",
       "      <th>4</th>\n",
       "      <td>94F</td>\n",
       "      <td>FIREWORKS</td>\n",
       "      <td>1A</td>\n",
       "      <td>94F</td>\n",
       "      <td>FIREWORKS</td>\n",
       "      <td>2J</td>\n",
       "      <td>2020-01-01 00:03:46</td>\n",
       "      <td>2020-01-01 00:34:36</td>\n",
       "      <td>NaT</td>\n",
       "      <td>NAT</td>\n",
       "      <td>Necessary Action Taken</td>\n",
       "      <td>N</td>\n",
       "      <td>053XX Memphis St</td>\n",
       "      <td>70124</td>\n",
       "      <td>3</td>\n",
       "      <td>-90.10813674</td>\n",
       "      <td>29.98517428</td>\n",
       "    </tr>\n",
       "  </tbody>\n",
       "</table>\n",
       "</div>"
      ],
      "text/plain": [
       "  Type             TypeText Priority InitialType      InitialTypeText  \\\n",
       "0  94F            FIREWORKS       1A         103  DISTURBANCE (OTHER)   \n",
       "1   21      COMPLAINT OTHER       1J          21      COMPLAINT OTHER   \n",
       "2  94F            FIREWORKS       1A         94F            FIREWORKS   \n",
       "3   94  DISCHARGING FIREARM       2D          94  DISCHARGING FIREARM   \n",
       "4  94F            FIREWORKS       1A         94F            FIREWORKS   \n",
       "\n",
       "  InitialPriority          TimeCreate        TimeDispatch          TimeArrive  \\\n",
       "0              1C 2020-01-01 00:00:34 2020-01-01 02:34:18                 NaT   \n",
       "1              1J 2020-01-01 00:00:42 2020-01-01 00:00:42 2020-01-01 00:00:42   \n",
       "2              2J 2020-01-01 00:01:05 2020-01-01 01:49:42 2020-01-01 02:08:17   \n",
       "3              2D 2020-01-01 00:02:50 2020-01-01 00:02:54 2020-01-01 00:09:13   \n",
       "4              2J 2020-01-01 00:03:46 2020-01-01 00:34:36                 NaT   \n",
       "\n",
       "  Disposition         DispositionText SelfInitiated  \\\n",
       "0         NAT  Necessary Action Taken             N   \n",
       "1         NAT  Necessary Action Taken             Y   \n",
       "2         NAT  Necessary Action Taken             N   \n",
       "3         GOA         GONE ON ARRIVAL             N   \n",
       "4         NAT  Necessary Action Taken             N   \n",
       "\n",
       "                  BLOCK_ADDRESS    Zip  PoliceDistrict     Longitude  \\\n",
       "0         001XX Blk Riviera Ave  70122               3   -90.0808922   \n",
       "1             034XX Broadway St  70125               2  -90.10840522   \n",
       "2                026XX Banks St  70119               1  -90.08872937   \n",
       "3  Kerlerec St & N Robertson St  70116               1   -90.0669267   \n",
       "4              053XX Memphis St  70124               3  -90.10813674   \n",
       "\n",
       "      Latitude  \n",
       "0   30.0086791  \n",
       "1  29.95996774  \n",
       "2  29.96246347  \n",
       "3  29.96960271  \n",
       "4  29.98517428  "
      ]
     },
     "execution_count": 59,
     "metadata": {},
     "output_type": "execute_result"
    }
   ],
   "source": [
    "#Calls2020_df.dtypes\n",
    "#Convert TimeCreate, TimeDispatch, and TimeArrive to datetime\n",
    "Calls2020_df['TimeCreate'] = pd.to_datetime(Calls2020_df['TimeCreate'],infer_datetime_format=True)\n",
    "Calls2020_df['TimeDispatch'] = pd.to_datetime(Calls2020_df['TimeDispatch'],infer_datetime_format=True)\n",
    "Calls2020_df['TimeArrive'] = pd.to_datetime(Calls2020_df['TimeArrive'],infer_datetime_format=True)\n",
    "\n",
    "#replace missing data\n",
    "Calls2020_df.head()"
   ]
  },
  {
   "cell_type": "markdown",
   "metadata": {},
   "source": [
    "A challenge I came across when transforming the data was converting from string to datetime.  Due to how large this dataset is, it was taking over 10 minutes to complete the conversion.  This is because pandas uses dateutil.parser.parse for parsing the strings when it has a non-default format or when no format string is supplied. I was able to speed up the process a bit by adding the parameter \"infer_datetime_format=True\"."
   ]
  },
  {
   "cell_type": "markdown",
   "metadata": {},
   "source": [
    "### Number of passengers deplaned (arriving) at MSY Airport by Month for March 2018- August 2020"
   ]
  },
  {
   "cell_type": "markdown",
   "metadata": {},
   "source": [
    "A challenge we knew we were going to face was the issue of population swelling. Due to coronavirus, we knew there would be a significant decrease in New Orleans population due to cancellation of tourist events and restrictions on travel.  To try to estimate populations during each month, we have collected data on number of passengers arriving at MSY airport during each month from March 2018 - August 2020 (as far as data would go).  We will merge this data with our 911 calls data so we can calculate 911 calls per 100,000 people. This should make our data analysis more realistic and account for unequal population sizes."
   ]
  },
  {
   "cell_type": "code",
   "execution_count": 60,
   "metadata": {},
   "outputs": [
    {
     "data": {
      "text/html": [
       "<div>\n",
       "<style scoped>\n",
       "    .dataframe tbody tr th:only-of-type {\n",
       "        vertical-align: middle;\n",
       "    }\n",
       "\n",
       "    .dataframe tbody tr th {\n",
       "        vertical-align: top;\n",
       "    }\n",
       "\n",
       "    .dataframe thead th {\n",
       "        text-align: right;\n",
       "    }\n",
       "</style>\n",
       "<table border=\"1\" class=\"dataframe\">\n",
       "  <thead>\n",
       "    <tr style=\"text-align: right;\">\n",
       "      <th></th>\n",
       "      <th>Month</th>\n",
       "      <th>Arrivals 2018</th>\n",
       "      <th>Arrivals 2019</th>\n",
       "      <th>Arrivals 2020</th>\n",
       "      <th>Pop 2018</th>\n",
       "      <th>Pop 2019</th>\n",
       "      <th>Pop 2020</th>\n",
       "      <th>Total Pop 2018</th>\n",
       "      <th>Total Pop 2019</th>\n",
       "      <th>Total Pop 2020</th>\n",
       "    </tr>\n",
       "  </thead>\n",
       "  <tbody>\n",
       "    <tr>\n",
       "      <th>0</th>\n",
       "      <td>March</td>\n",
       "      <td>604666</td>\n",
       "      <td>640901</td>\n",
       "      <td>326227</td>\n",
       "      <td>391006</td>\n",
       "      <td>391044</td>\n",
       "      <td>390028</td>\n",
       "      <td>995672</td>\n",
       "      <td>1031945</td>\n",
       "      <td>716255</td>\n",
       "    </tr>\n",
       "    <tr>\n",
       "      <th>1</th>\n",
       "      <td>Apr</td>\n",
       "      <td>595906</td>\n",
       "      <td>586796</td>\n",
       "      <td>14421</td>\n",
       "      <td>391006</td>\n",
       "      <td>391044</td>\n",
       "      <td>390028</td>\n",
       "      <td>986912</td>\n",
       "      <td>977840</td>\n",
       "      <td>404449</td>\n",
       "    </tr>\n",
       "    <tr>\n",
       "      <th>2</th>\n",
       "      <td>May</td>\n",
       "      <td>566970</td>\n",
       "      <td>612886</td>\n",
       "      <td>43070</td>\n",
       "      <td>391006</td>\n",
       "      <td>391044</td>\n",
       "      <td>390028</td>\n",
       "      <td>957976</td>\n",
       "      <td>1003930</td>\n",
       "      <td>433098</td>\n",
       "    </tr>\n",
       "    <tr>\n",
       "      <th>3</th>\n",
       "      <td>June</td>\n",
       "      <td>555182</td>\n",
       "      <td>577194</td>\n",
       "      <td>96644</td>\n",
       "      <td>391006</td>\n",
       "      <td>391044</td>\n",
       "      <td>390028</td>\n",
       "      <td>946188</td>\n",
       "      <td>968238</td>\n",
       "      <td>486672</td>\n",
       "    </tr>\n",
       "    <tr>\n",
       "      <th>4</th>\n",
       "      <td>July</td>\n",
       "      <td>559059</td>\n",
       "      <td>545767</td>\n",
       "      <td>157645</td>\n",
       "      <td>391006</td>\n",
       "      <td>391044</td>\n",
       "      <td>390028</td>\n",
       "      <td>950065</td>\n",
       "      <td>936811</td>\n",
       "      <td>547673</td>\n",
       "    </tr>\n",
       "    <tr>\n",
       "      <th>5</th>\n",
       "      <td>Aug</td>\n",
       "      <td>509903</td>\n",
       "      <td>529846</td>\n",
       "      <td>391044</td>\n",
       "      <td>391006</td>\n",
       "      <td>391044</td>\n",
       "      <td>390028</td>\n",
       "      <td>900909</td>\n",
       "      <td>920890</td>\n",
       "      <td>781072</td>\n",
       "    </tr>\n",
       "  </tbody>\n",
       "</table>\n",
       "</div>"
      ],
      "text/plain": [
       "   Month  Arrivals 2018  Arrivals 2019  Arrivals 2020  Pop 2018  Pop 2019  \\\n",
       "0  March         604666         640901         326227    391006    391044   \n",
       "1    Apr         595906         586796          14421    391006    391044   \n",
       "2    May         566970         612886          43070    391006    391044   \n",
       "3   June         555182         577194          96644    391006    391044   \n",
       "4   July         559059         545767         157645    391006    391044   \n",
       "5    Aug         509903         529846         391044    391006    391044   \n",
       "\n",
       "   Pop 2020  Total Pop 2018  Total Pop 2019  Total Pop 2020  \n",
       "0    390028          995672         1031945          716255  \n",
       "1    390028          986912          977840          404449  \n",
       "2    390028          957976         1003930          433098  \n",
       "3    390028          946188          968238          486672  \n",
       "4    390028          950065          936811          547673  \n",
       "5    390028          900909          920890          781072  "
      ]
     },
     "execution_count": 60,
     "metadata": {},
     "output_type": "execute_result"
    }
   ],
   "source": [
    "Air_arrivals = pd.read_csv(\"../arrivals_data.csv\")\n",
    "Air_arrivals"
   ]
  },
  {
   "cell_type": "markdown",
   "metadata": {},
   "source": [
    "### COVID-19 Cases Per Day in Louisiana Dataset"
   ]
  },
  {
   "cell_type": "code",
   "execution_count": 61,
   "metadata": {},
   "outputs": [
    {
     "data": {
      "text/html": [
       "<div>\n",
       "<style scoped>\n",
       "    .dataframe tbody tr th:only-of-type {\n",
       "        vertical-align: middle;\n",
       "    }\n",
       "\n",
       "    .dataframe tbody tr th {\n",
       "        vertical-align: top;\n",
       "    }\n",
       "\n",
       "    .dataframe thead th {\n",
       "        text-align: right;\n",
       "    }\n",
       "</style>\n",
       "<table border=\"1\" class=\"dataframe\">\n",
       "  <thead>\n",
       "    <tr style=\"text-align: right;\">\n",
       "      <th></th>\n",
       "      <th>Cases per day</th>\n",
       "    </tr>\n",
       "    <tr>\n",
       "      <th>Date</th>\n",
       "      <th></th>\n",
       "    </tr>\n",
       "  </thead>\n",
       "  <tbody>\n",
       "    <tr>\n",
       "      <th>2020-11-14</th>\n",
       "      <td>0</td>\n",
       "    </tr>\n",
       "    <tr>\n",
       "      <th>2020-11-13</th>\n",
       "      <td>3450</td>\n",
       "    </tr>\n",
       "    <tr>\n",
       "      <th>2020-11-12</th>\n",
       "      <td>3829</td>\n",
       "    </tr>\n",
       "    <tr>\n",
       "      <th>2020-11-11</th>\n",
       "      <td>0</td>\n",
       "    </tr>\n",
       "    <tr>\n",
       "      <th>2020-11-10</th>\n",
       "      <td>1330</td>\n",
       "    </tr>\n",
       "  </tbody>\n",
       "</table>\n",
       "</div>"
      ],
      "text/plain": [
       "            Cases per day\n",
       "Date                     \n",
       "2020-11-14              0\n",
       "2020-11-13           3450\n",
       "2020-11-12           3829\n",
       "2020-11-11              0\n",
       "2020-11-10           1330"
      ]
     },
     "execution_count": 61,
     "metadata": {},
     "output_type": "execute_result"
    }
   ],
   "source": [
    "LA_cases = pd.read_csv(\"../louisiana-history.csv\")\n",
    "data = {'Date': LA_cases['date'], \n",
    "        'Cases per day': LA_cases['positiveIncrease']\n",
    "       } \n",
    "  \n",
    "# Convert the dictionary into DataFrame \n",
    "LA_cases_by_day = pd.DataFrame(data) \n",
    "LA_cases_by_day['Date'] = pd.to_datetime(LA_cases_by_day['Date'],infer_datetime_format=True)\n",
    "LA_cases_by_day = LA_cases_by_day.set_index('Date')\n",
    "LA_cases_by_day.head()"
   ]
  },
  {
   "cell_type": "code",
   "execution_count": 62,
   "metadata": {},
   "outputs": [
    {
     "data": {
      "text/plain": [
       "<matplotlib.axes._subplots.AxesSubplot at 0x7fd3364bf340>"
      ]
     },
     "execution_count": 62,
     "metadata": {},
     "output_type": "execute_result"
    },
    {
     "data": {
      "image/png": "[encoded data removed]",
      "text/plain": [
       "<Figure size 1440x576 with 1 Axes>"
      ]
     },
     "metadata": {
      "needs_background": "light"
     },
     "output_type": "display_data"
    }
   ],
   "source": [
    "LA_cases_by_day.plot(figsize = (20,8))"
   ]
  },
  {
   "cell_type": "markdown",
   "metadata": {},
   "source": [
    "Trends: spikes Highest spikes in April, July, November"
   ]
  },
  {
   "cell_type": "markdown",
   "metadata": {},
   "source": [
    "### Graph to show number of 911 calls per month for 2018, 2019, 2020"
   ]
  },
  {
   "cell_type": "code",
   "execution_count": 63,
   "metadata": {},
   "outputs": [
    {
     "data": {
      "text/html": [
       "<div>\n",
       "<style scoped>\n",
       "    .dataframe tbody tr th:only-of-type {\n",
       "        vertical-align: middle;\n",
       "    }\n",
       "\n",
       "    .dataframe tbody tr th {\n",
       "        vertical-align: top;\n",
       "    }\n",
       "\n",
       "    .dataframe thead th {\n",
       "        text-align: right;\n",
       "    }\n",
       "</style>\n",
       "<table border=\"1\" class=\"dataframe\">\n",
       "  <thead>\n",
       "    <tr style=\"text-align: right;\">\n",
       "      <th></th>\n",
       "      <th>index</th>\n",
       "      <th>Type_</th>\n",
       "      <th>TypeText</th>\n",
       "      <th>Priority</th>\n",
       "      <th>InitialType</th>\n",
       "      <th>InitialTypeText</th>\n",
       "      <th>InitialPriority</th>\n",
       "      <th>TimeCreate</th>\n",
       "      <th>TimeDispatch</th>\n",
       "      <th>TimeArrival</th>\n",
       "      <th>...</th>\n",
       "      <th>SelfInitiated</th>\n",
       "      <th>BLOCK_ADDRESS</th>\n",
       "      <th>Zip</th>\n",
       "      <th>PoliceDistrict</th>\n",
       "      <th>Latitude</th>\n",
       "      <th>Longitude</th>\n",
       "      <th>Year</th>\n",
       "      <th>Date</th>\n",
       "      <th>Month</th>\n",
       "      <th>Type</th>\n",
       "    </tr>\n",
       "  </thead>\n",
       "  <tbody>\n",
       "    <tr>\n",
       "      <th>0</th>\n",
       "      <td>6</td>\n",
       "      <td>103M</td>\n",
       "      <td>MENTAL PATIENT</td>\n",
       "      <td>2C</td>\n",
       "      <td>103M</td>\n",
       "      <td>MENTAL PATIENT</td>\n",
       "      <td>2C</td>\n",
       "      <td>2018-06-08 02:53:47</td>\n",
       "      <td>2018-06-08 02:54:30</td>\n",
       "      <td>2018-06-08 02:55:53</td>\n",
       "      <td>...</td>\n",
       "      <td>N</td>\n",
       "      <td>018XX Magnolia St</td>\n",
       "      <td>70113</td>\n",
       "      <td>6</td>\n",
       "      <td>0.0</td>\n",
       "      <td>0.0</td>\n",
       "      <td>2018</td>\n",
       "      <td>2018-06-08</td>\n",
       "      <td>June</td>\n",
       "      <td>NaN</td>\n",
       "    </tr>\n",
       "    <tr>\n",
       "      <th>1</th>\n",
       "      <td>7</td>\n",
       "      <td>24</td>\n",
       "      <td>MEDICAL</td>\n",
       "      <td>2D</td>\n",
       "      <td>24</td>\n",
       "      <td>MEDICAL</td>\n",
       "      <td>2D</td>\n",
       "      <td>2018-03-20 02:36:24</td>\n",
       "      <td>2018-03-20 02:36:24</td>\n",
       "      <td>2018-03-20 02:36:24</td>\n",
       "      <td>...</td>\n",
       "      <td>Y</td>\n",
       "      <td>XX Dreyfous Dr</td>\n",
       "      <td>70119</td>\n",
       "      <td>3</td>\n",
       "      <td>0.0</td>\n",
       "      <td>0.0</td>\n",
       "      <td>2018</td>\n",
       "      <td>2018-03-20</td>\n",
       "      <td>March</td>\n",
       "      <td>NaN</td>\n",
       "    </tr>\n",
       "    <tr>\n",
       "      <th>2</th>\n",
       "      <td>9</td>\n",
       "      <td>24</td>\n",
       "      <td>MEDICAL</td>\n",
       "      <td>2D</td>\n",
       "      <td>24</td>\n",
       "      <td>MEDICAL</td>\n",
       "      <td>2D</td>\n",
       "      <td>2018-08-04 02:51:50</td>\n",
       "      <td>2018-08-04 02:51:50</td>\n",
       "      <td>2018-08-04 02:51:50</td>\n",
       "      <td>...</td>\n",
       "      <td>Y</td>\n",
       "      <td>Bourbon St &amp; Saint Peter St</td>\n",
       "      <td>70112</td>\n",
       "      <td>8</td>\n",
       "      <td>0.0</td>\n",
       "      <td>0.0</td>\n",
       "      <td>2018</td>\n",
       "      <td>2018-08-04</td>\n",
       "      <td>Aug</td>\n",
       "      <td>NaN</td>\n",
       "    </tr>\n",
       "    <tr>\n",
       "      <th>3</th>\n",
       "      <td>12</td>\n",
       "      <td>24</td>\n",
       "      <td>MEDICAL</td>\n",
       "      <td>1A</td>\n",
       "      <td>24</td>\n",
       "      <td>MEDICAL</td>\n",
       "      <td>2D</td>\n",
       "      <td>2018-05-24 06:30:27</td>\n",
       "      <td>NaT</td>\n",
       "      <td>NaT</td>\n",
       "      <td>...</td>\n",
       "      <td>N</td>\n",
       "      <td>066XX Lake Willow Dr</td>\n",
       "      <td>70126</td>\n",
       "      <td>7</td>\n",
       "      <td>0.0</td>\n",
       "      <td>0.0</td>\n",
       "      <td>2018</td>\n",
       "      <td>2018-05-24</td>\n",
       "      <td>May</td>\n",
       "      <td>NaN</td>\n",
       "    </tr>\n",
       "    <tr>\n",
       "      <th>4</th>\n",
       "      <td>14</td>\n",
       "      <td>103</td>\n",
       "      <td>DISTURBANCE (OTHER)</td>\n",
       "      <td>2A</td>\n",
       "      <td>103</td>\n",
       "      <td>DISTURBANCE (OTHER)</td>\n",
       "      <td>1C</td>\n",
       "      <td>2018-08-26 05:39:53</td>\n",
       "      <td>NaT</td>\n",
       "      <td>NaT</td>\n",
       "      <td>...</td>\n",
       "      <td>N</td>\n",
       "      <td>City Park</td>\n",
       "      <td>NaN</td>\n",
       "      <td>0</td>\n",
       "      <td>0.0</td>\n",
       "      <td>0.0</td>\n",
       "      <td>2018</td>\n",
       "      <td>2018-08-26</td>\n",
       "      <td>Aug</td>\n",
       "      <td>NaN</td>\n",
       "    </tr>\n",
       "  </tbody>\n",
       "</table>\n",
       "<p>5 rows × 22 columns</p>\n",
       "</div>"
      ],
      "text/plain": [
       "   index Type_             TypeText Priority InitialType      InitialTypeText  \\\n",
       "0      6  103M       MENTAL PATIENT       2C        103M       MENTAL PATIENT   \n",
       "1      7    24              MEDICAL       2D          24              MEDICAL   \n",
       "2      9    24              MEDICAL       2D          24              MEDICAL   \n",
       "3     12    24              MEDICAL       1A          24              MEDICAL   \n",
       "4     14   103  DISTURBANCE (OTHER)       2A         103  DISTURBANCE (OTHER)   \n",
       "\n",
       "  InitialPriority          TimeCreate        TimeDispatch         TimeArrival  \\\n",
       "0              2C 2018-06-08 02:53:47 2018-06-08 02:54:30 2018-06-08 02:55:53   \n",
       "1              2D 2018-03-20 02:36:24 2018-03-20 02:36:24 2018-03-20 02:36:24   \n",
       "2              2D 2018-08-04 02:51:50 2018-08-04 02:51:50 2018-08-04 02:51:50   \n",
       "3              2D 2018-05-24 06:30:27                 NaT                 NaT   \n",
       "4              1C 2018-08-26 05:39:53                 NaT                 NaT   \n",
       "\n",
       "   ... SelfInitiated                BLOCK_ADDRESS    Zip PoliceDistrict  \\\n",
       "0  ...             N            018XX Magnolia St  70113              6   \n",
       "1  ...             Y               XX Dreyfous Dr  70119              3   \n",
       "2  ...             Y  Bourbon St & Saint Peter St  70112              8   \n",
       "3  ...             N         066XX Lake Willow Dr  70126              7   \n",
       "4  ...             N                    City Park    NaN              0   \n",
       "\n",
       "  Latitude  Longitude  Year        Date  Month Type  \n",
       "0      0.0        0.0  2018  2018-06-08   June  NaN  \n",
       "1      0.0        0.0  2018  2018-03-20  March  NaN  \n",
       "2      0.0        0.0  2018  2018-08-04    Aug  NaN  \n",
       "3      0.0        0.0  2018  2018-05-24    May  NaN  \n",
       "4      0.0        0.0  2018  2018-08-26    Aug  NaN  \n",
       "\n",
       "[5 rows x 22 columns]"
      ]
     },
     "execution_count": 63,
     "metadata": {},
     "output_type": "execute_result"
    }
   ],
   "source": [
    "Calls2018_df = Calls2018_df.copy()\n",
    "Calls2018_df = Calls2018_df.rename(columns={'TimeArrive': 'TimeArrival'})\n",
    "Calls2018_df['Year'] = Calls2018_df['TimeCreate'].dt.year\n",
    "Calls2018_df['Date'] = Calls2018_df['TimeCreate'].dt.date\n",
    "Calls2018_df['Month'] = Calls2018_df['TimeCreate'].dt.month\n",
    "CallsbyMonth2018 = Calls2018_df[Calls2018_df['Month'] <= 8]\n",
    "CallsbyMonth2018 = Calls2018_df[Calls2018_df['Month'] >= 3]\n",
    "\n",
    "Calls2019_df = Calls2019_df.copy()\n",
    "Calls2019_df['Year'] = Calls2019_df['TimeCreate'].dt.year\n",
    "Calls2019_df['Date'] = Calls2019_df['TimeCreate'].dt.date\n",
    "Calls2019_df['Month'] = Calls2019_df['TimeCreate'].dt.month\n",
    "CallsbyMonth2019 = Calls2019_df[Calls2019_df['Month'] <= 8]\n",
    "CallsbyMonth2019 = Calls2019_df[Calls2019_df['Month'] >= 3]\n",
    "\n",
    "Calls2020_df = Calls2020_df.copy()\n",
    "Calls2020_df = Calls2020_df.rename(columns={'TimeArrive': 'TimeArrival'})\n",
    "Calls2020_df['Year'] = Calls2020_df['TimeCreate'].dt.year\n",
    "Calls2020_df['Date'] = Calls2020_df['TimeCreate'].dt.date\n",
    "Calls2020_df['Month'] = Calls2020_df['TimeCreate'].dt.month\n",
    "CallsbyMonth2020 = Calls2020_df[Calls2020_df['Month'] <= 8]\n",
    "CallsbyMonth2020 = Calls2020_df[Calls2020_df['Month'] >= 3]\n",
    "\n",
    "CallsbyMonth = CallsbyMonth2018.append(CallsbyMonth2019)\n",
    "CallsbyMonth = CallsbyMonth.append(CallsbyMonth2020)\n",
    "CallsbyMonth = CallsbyMonth.reset_index()\n",
    "CallsbyMonth[\"Month\"] = CallsbyMonth[\"Month\"].map({\n",
    "\n",
    "       3: \"March\",\n",
    "       4: \"Apr\",\n",
    "       5: \"May\",\n",
    "       6: \"June\",\n",
    "       7: \"July\",\n",
    "       8: \"Aug\",\n",
    "\n",
    "})\n",
    "\n",
    "CallsbyMonth.head()\n"
   ]
  },
  {
   "cell_type": "code",
   "execution_count": 64,
   "metadata": {},
   "outputs": [],
   "source": [
    "import matplotlib\n",
    "import matplotlib.pyplot as plt\n",
    "import numpy as np\n",
    "\n",
    "result = CallsbyMonth.pivot_table(index='Month', \n",
    "                        columns='Year', values='TypeText', aggfunc='count')"
   ]
  },
  {
   "cell_type": "code",
   "execution_count": 65,
   "metadata": {},
   "outputs": [],
   "source": [
    "flattened = pd.DataFrame(result.to_records())\n",
    "std_number_calls = flattened.merge(Air_arrivals, on='Month')"
   ]
  },
  {
   "cell_type": "code",
   "execution_count": 66,
   "metadata": {},
   "outputs": [],
   "source": [
    "std_number_calls['Calls per 100,000 2018'] = (std_number_calls['2018']/std_number_calls['Total Pop 2018'])*100000\n",
    "std_number_calls['Calls per 100,000 2019'] = (std_number_calls['2019']/std_number_calls['Total Pop 2019'])*100000\n",
    "std_number_calls['Calls per 100,000 2020'] = (std_number_calls['2020']/std_number_calls['Total Pop 2020'])*100000"
   ]
  },
  {
   "cell_type": "code",
   "execution_count": 67,
   "metadata": {},
   "outputs": [
    {
     "data": {
      "image/png": "[encoded data removed]",
      "text/plain": [
       "<Figure size 1440x576 with 1 Axes>"
      ]
     },
     "metadata": {
      "needs_background": "light"
     },
     "output_type": "display_data"
    }
   ],
   "source": [
    "result = std_number_calls.pivot_table(index='Month', \n",
    "                                      values=['Calls per 100,000 2018',\n",
    "                                              'Calls per 100,000 2019',\n",
    "                                              'Calls per 100,000 2020'])\n",
    "\n",
    "monthOrder = ['March', 'Apr', 'May', 'June', 'July', 'Aug']\n",
    "ax = result.loc[monthOrder].plot(kind=\"bar\", legend=True, \n",
    "                                 title =\"Number of Calls Per 100,000 People\", figsize=(20, 8), fontsize=16)\n",
    "plt.xlabel(\"Month\")\n",
    "plt.ylabel(\"Number of Calls\")\n",
    "plt.show()"
   ]
  },
  {
   "cell_type": "markdown",
   "metadata": {},
   "source": [
    "This graph shows the number of calls made per 100,000 people in the months of March through August in 2018, 2019, and 2020.  As we predicted, more calls were made per 100,000 people during the spikes of the pandemic.  Things do even out in August though, as restricitions are lifted."
   ]
  },
  {
   "cell_type": "markdown",
   "metadata": {},
   "source": [
    "### Top 10 Types of 911 Calls in April 2019"
   ]
  },
  {
   "cell_type": "code",
   "execution_count": 68,
   "metadata": {},
   "outputs": [],
   "source": [
    "from IPython.display import display_html\n",
    "def display_side_by_side(*args):\n",
    "    html_str=''\n",
    "    for df in args:\n",
    "        html_str+=df.to_html()\n",
    "    display_html(html_str.replace('table','table style=\"display:inline\"'),raw=True)"
   ]
  },
  {
   "cell_type": "code",
   "execution_count": 69,
   "metadata": {},
   "outputs": [
    {
     "data": {
      "text/html": [
       "<table style=\"display:inline\" border=\"1\" class=\"dataframe\">\n",
       "  <thead>\n",
       "    <tr style=\"text-align: right;\">\n",
       "      <th></th>\n",
       "      <th>counts</th>\n",
       "    </tr>\n",
       "    <tr>\n",
       "      <th>2018</th>\n",
       "      <th></th>\n",
       "    </tr>\n",
       "  </thead>\n",
       "  <tbody>\n",
       "    <tr>\n",
       "      <th>TRAFFIC INCIDENT</th>\n",
       "      <td>33946</td>\n",
       "    </tr>\n",
       "    <tr>\n",
       "      <th>BURGLAR ALARM, SILENT</th>\n",
       "      <td>19611</td>\n",
       "    </tr>\n",
       "    <tr>\n",
       "      <th>WARR STOP WITH RELEASE</th>\n",
       "      <td>14585</td>\n",
       "    </tr>\n",
       "    <tr>\n",
       "      <th>AUTO ACCIDENT</th>\n",
       "      <td>12851</td>\n",
       "    </tr>\n",
       "    <tr>\n",
       "      <th>SUSPICIOUS PERSON</th>\n",
       "      <td>12735</td>\n",
       "    </tr>\n",
       "    <tr>\n",
       "      <th>DOMESTIC DISTURBANCE</th>\n",
       "      <td>10197</td>\n",
       "    </tr>\n",
       "    <tr>\n",
       "      <th>HIT &amp; RUN</th>\n",
       "      <td>7092</td>\n",
       "    </tr>\n",
       "    <tr>\n",
       "      <th>MEDICAL</th>\n",
       "      <td>6833</td>\n",
       "    </tr>\n",
       "    <tr>\n",
       "      <th>MUNICIPAL ATTACHMENT</th>\n",
       "      <td>5724</td>\n",
       "    </tr>\n",
       "    <tr>\n",
       "      <th>TOW IMPOUNDED VEHICLE (PRIVATE)</th>\n",
       "      <td>5334</td>\n",
       "    </tr>\n",
       "  </tbody>\n",
       "</table style=\"display:inline\"><table style=\"display:inline\" border=\"1\" class=\"dataframe\">\n",
       "  <thead>\n",
       "    <tr style=\"text-align: right;\">\n",
       "      <th></th>\n",
       "      <th>counts</th>\n",
       "    </tr>\n",
       "    <tr>\n",
       "      <th>2019</th>\n",
       "      <th></th>\n",
       "    </tr>\n",
       "  </thead>\n",
       "  <tbody>\n",
       "    <tr>\n",
       "      <th>TRAFFIC INCIDENT</th>\n",
       "      <td>18370</td>\n",
       "    </tr>\n",
       "    <tr>\n",
       "      <th>BURGLAR ALARM, SILENT</th>\n",
       "      <td>18363</td>\n",
       "    </tr>\n",
       "    <tr>\n",
       "      <th>SUSPICIOUS PERSON</th>\n",
       "      <td>12539</td>\n",
       "    </tr>\n",
       "    <tr>\n",
       "      <th>AUTO ACCIDENT</th>\n",
       "      <td>12231</td>\n",
       "    </tr>\n",
       "    <tr>\n",
       "      <th>TOW IMPOUNDED VEHICLE (PRIVATE)</th>\n",
       "      <td>10853</td>\n",
       "    </tr>\n",
       "    <tr>\n",
       "      <th>DOMESTIC DISTURBANCE</th>\n",
       "      <td>8792</td>\n",
       "    </tr>\n",
       "    <tr>\n",
       "      <th>WARR STOP WITH RELEASE</th>\n",
       "      <td>8030</td>\n",
       "    </tr>\n",
       "    <tr>\n",
       "      <th>MEDICAL</th>\n",
       "      <td>7791</td>\n",
       "    </tr>\n",
       "    <tr>\n",
       "      <th>SIMPLE BURGLARY VEHICLE</th>\n",
       "      <td>7624</td>\n",
       "    </tr>\n",
       "    <tr>\n",
       "      <th>TRAFFIC STOP</th>\n",
       "      <td>7617</td>\n",
       "    </tr>\n",
       "  </tbody>\n",
       "</table style=\"display:inline\"><table style=\"display:inline\" border=\"1\" class=\"dataframe\">\n",
       "  <thead>\n",
       "    <tr style=\"text-align: right;\">\n",
       "      <th></th>\n",
       "      <th>counts</th>\n",
       "    </tr>\n",
       "    <tr>\n",
       "      <th>2020</th>\n",
       "      <th></th>\n",
       "    </tr>\n",
       "  </thead>\n",
       "  <tbody>\n",
       "    <tr>\n",
       "      <th>BURGLAR ALARM, SILENT</th>\n",
       "      <td>12428</td>\n",
       "    </tr>\n",
       "    <tr>\n",
       "      <th>SUSPICIOUS PERSON</th>\n",
       "      <td>8396</td>\n",
       "    </tr>\n",
       "    <tr>\n",
       "      <th>DOMESTIC DISTURBANCE</th>\n",
       "      <td>8229</td>\n",
       "    </tr>\n",
       "    <tr>\n",
       "      <th>TRAFFIC STOP</th>\n",
       "      <td>6687</td>\n",
       "    </tr>\n",
       "    <tr>\n",
       "      <th>AUTO ACCIDENT</th>\n",
       "      <td>6631</td>\n",
       "    </tr>\n",
       "    <tr>\n",
       "      <th>PUBLIC GATHERING</th>\n",
       "      <td>4992</td>\n",
       "    </tr>\n",
       "    <tr>\n",
       "      <th>SIMPLE BURGLARY VEHICLE</th>\n",
       "      <td>4772</td>\n",
       "    </tr>\n",
       "    <tr>\n",
       "      <th>HIT &amp; RUN</th>\n",
       "      <td>4263</td>\n",
       "    </tr>\n",
       "    <tr>\n",
       "      <th>MENTAL PATIENT</th>\n",
       "      <td>3902</td>\n",
       "    </tr>\n",
       "    <tr>\n",
       "      <th>MEDICAL</th>\n",
       "      <td>3804</td>\n",
       "    </tr>\n",
       "  </tbody>\n",
       "</table style=\"display:inline\">"
      ]
     },
     "metadata": {},
     "output_type": "display_data"
    }
   ],
   "source": [
    "TopCalls_2018 = CallsbyMonth2018.loc[ \n",
    "                                 (CallsbyMonth2018['TypeText'] != 'AREA CHECK') \n",
    "                                 & (CallsbyMonth2018['TypeText'] != 'BUSINESS CHECK')\n",
    "                                 & (CallsbyMonth2018['TypeText'] != 'COMPLAINT OTHER') \n",
    "                                 & (CallsbyMonth2018['TypeText'] != 'RETURN FOR ADDITIONAL INFO')\n",
    "                                & (CallsbyMonth2018['TypeText'] != 'DISTURBANCE (OTHER)')]\n",
    "TopCalls_2018 = TopCalls_2018['TypeText'].value_counts()[:10].rename_axis('2018').to_frame('counts')\n",
    "\n",
    "TopCalls_2019 = CallsbyMonth2019.loc[\n",
    "                                 (CallsbyMonth2019['TypeText'] != 'AREA CHECK') \n",
    "                                 & (CallsbyMonth2019['TypeText'] != 'BUSINESS CHECK')\n",
    "                                 & (CallsbyMonth2019['TypeText'] != 'COMPLAINT OTHER') \n",
    "                                 & (CallsbyMonth2019['TypeText'] != 'RETURN FOR ADDITIONAL INFO')\n",
    "                                & (CallsbyMonth2019['TypeText'] != 'DISTURBANCE (OTHER)')]\n",
    "TopCalls_2019 = TopCalls_2019['TypeText'].value_counts()[:10].rename_axis('2019').to_frame('counts')\n",
    "\n",
    "TopCalls_2020 = CallsbyMonth2020.loc[\n",
    "                                 (CallsbyMonth2020['TypeText'] != 'AREA CHECK') \n",
    "                                 & (CallsbyMonth2020['TypeText'] != 'BUSINESS CHECK')\n",
    "                                 & (CallsbyMonth2020['TypeText'] != 'COMPLAINT OTHER') \n",
    "                                 & (CallsbyMonth2020['TypeText'] != 'RETURN FOR ADDITIONAL INFO')\n",
    "                                & (CallsbyMonth2020['TypeText'] != 'DISTURBANCE (OTHER)')]\n",
    "TopCalls_2020 = TopCalls_2020['TypeText'].value_counts()[:10].rename_axis('2020').to_frame('counts')\n",
    "\n",
    "display_side_by_side(TopCalls_2018,TopCalls_2019,TopCalls_2020)"
   ]
  },
  {
   "cell_type": "markdown",
   "metadata": {},
   "source": [
    "The tables above show the top types of calls made in 2018, 2019, and 2020.  It does not appear they vary too greatly.  However, we can see tthat traffic incidents are not a top call in 2020 while public gatherings and mental patient are.  We can be sure that public gatherings is a result of the pandemic.  We can speculate that mental patient is now a top call in 2020 due the depressing reality that is lockdown and disease; however, that is purely speculation."
   ]
  },
  {
   "cell_type": "markdown",
   "metadata": {},
   "source": [
    "### Map of Locations of 911 Calls for Public Gatherings in April 2020"
   ]
  },
  {
   "cell_type": "code",
   "execution_count": 70,
   "metadata": {},
   "outputs": [
    {
     "name": "stdout",
     "output_type": "stream",
     "text": [
      "Requirement already satisfied: folium in /opt/conda/lib/python3.8/site-packages (0.11.0)\n",
      "Requirement already satisfied: jinja2>=2.9 in /opt/conda/lib/python3.8/site-packages (from folium) (2.11.2)\n",
      "Requirement already satisfied: branca>=0.3.0 in /opt/conda/lib/python3.8/site-packages (from folium) (0.4.1)\n",
      "Requirement already satisfied: numpy in /opt/conda/lib/python3.8/site-packages (from folium) (1.19.1)\n",
      "Requirement already satisfied: requests in /opt/conda/lib/python3.8/site-packages (from folium) (2.24.0)\n",
      "Requirement already satisfied: MarkupSafe>=0.23 in /opt/conda/lib/python3.8/site-packages (from jinja2>=2.9->folium) (1.1.1)\n",
      "Requirement already satisfied: urllib3!=1.25.0,!=1.25.1,<1.26,>=1.21.1 in /opt/conda/lib/python3.8/site-packages (from requests->folium) (1.25.10)\n",
      "Requirement already satisfied: chardet<4,>=3.0.2 in /opt/conda/lib/python3.8/site-packages (from requests->folium) (3.0.4)\n",
      "Requirement already satisfied: certifi>=2017.4.17 in /opt/conda/lib/python3.8/site-packages (from requests->folium) (2020.6.20)\n",
      "Requirement already satisfied: idna<3,>=2.5 in /opt/conda/lib/python3.8/site-packages (from requests->folium) (2.10)\n"
     ]
    }
   ],
   "source": [
    "!pip install folium"
   ]
  },
  {
   "cell_type": "code",
   "execution_count": 71,
   "metadata": {},
   "outputs": [],
   "source": [
    "import folium"
   ]
  },
  {
   "cell_type": "code",
   "execution_count": 72,
   "metadata": {},
   "outputs": [
    {
     "data": {
      "text/plain": [
       "1442"
      ]
     },
     "execution_count": 72,
     "metadata": {},
     "output_type": "execute_result"
    }
   ],
   "source": [
    "April2020 = CallsbyMonth2020.loc[(CallsbyMonth2020['Month'] == 4)& (CallsbyMonth2020['TypeText'] == 'PUBLIC GATHERING')]\n",
    "locations = April2020[['Latitude', 'Longitude']].dropna()\n",
    "locationlist = locations.values.tolist()\n",
    "len(locationlist)"
   ]
  },
  {
   "cell_type": "code",
   "execution_count": 73,
   "metadata": {
    "scrolled": true
   },
   "outputs": [
    {
     "data": {
      "text/html": [
       "<div style=\"width:100%;\"><div style=\"position:relative;width:100%;height:0;padding-bottom:60%;\"><span style=\"color:#565656\">Make this Notebook Trusted to load map: File -> Trust Notebook</span><iframe src=\"about:blank\" style=\"position:absolute;width:100%;height:100%;left:0;top:0;border:none !important;\" data-html=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 onload=\"this.contentDocument.open();this.contentDocument.write(atob(this.getAttribute('data-html')));this.contentDocument.close();\" allowfullscreen webkitallowfullscreen mozallowfullscreen></iframe></div></div>"
      ],
      "text/plain": [
       "<folium.folium.Map at 0x7fd336461700>"
      ]
     },
     "execution_count": 73,
     "metadata": {},
     "output_type": "execute_result"
    }
   ],
   "source": [
    "from folium.plugins import FastMarkerCluster\n",
    "\n",
    "NOLA_location = [29.951065, -90.071533 ]\n",
    "\n",
    "m = folium.Map(location=NOLA_location,\n",
    "               zoom_start=15,\n",
    "               tiles='openstreetmap')\n",
    "\n",
    "m.add_child(FastMarkerCluster(locationlist, name='2020'))\n"
   ]
  },
  {
   "cell_type": "markdown",
   "metadata": {},
   "source": [
    "Looking deeper into this new type of call about Public Gatherings, this visualization shows calls placed about Public Gatherings (608 calls) in April 2020.  Notice the areas with higher number of calls, such as Mid City and Uptown - near Tulane's Campus."
   ]
  },
  {
   "cell_type": "markdown",
   "metadata": {},
   "source": [
    "### Number of Domestic Assault Calls"
   ]
  },
  {
   "cell_type": "code",
   "execution_count": 74,
   "metadata": {},
   "outputs": [],
   "source": [
    "DomesticAssault = CallsbyMonth.loc[(CallsbyMonth['TypeText'] == 'AGGRAVATED ASSAULT DOMESTIC')|(CallsbyMonth['TypeText'] == 'SIMPLE ASSAULT DOMESTIC')\n",
    "                               |(CallsbyMonth['TypeText'] == 'CRIMINAL DAMAGE DOMESTIC')|(CallsbyMonth['TypeText'] == 'CRIMINAL MISCHIEF DOMESTIC') \n",
    "                                 |(CallsbyMonth['TypeText'] == 'AGGRAVATED BATTERY DOMESTIC')|(CallsbyMonth['TypeText'] == 'SIMPLE BATTERY DOMESTIC')  ]\n",
    "result = DomesticAssault.pivot_table(index='Month', \n",
    "                        columns='Year', values='TypeText', aggfunc='count')\n"
   ]
  },
  {
   "cell_type": "code",
   "execution_count": 75,
   "metadata": {},
   "outputs": [],
   "source": [
    "flattened = pd.DataFrame(result.to_records())\n",
    "std_number_calls = flattened.merge(Air_arrivals, on='Month')"
   ]
  },
  {
   "cell_type": "code",
   "execution_count": 76,
   "metadata": {},
   "outputs": [],
   "source": [
    "std_number_calls['Calls per 100,000 2018'] = (std_number_calls['2018']/std_number_calls['Total Pop 2018'])*100000\n",
    "std_number_calls['Calls per 100,000 2019'] = (std_number_calls['2019']/std_number_calls['Total Pop 2019'])*100000\n",
    "std_number_calls['Calls per 100,000 2020'] = (std_number_calls['2020']/std_number_calls['Total Pop 2020'])*100000"
   ]
  },
  {
   "cell_type": "code",
   "execution_count": 77,
   "metadata": {},
   "outputs": [
    {
     "data": {
      "image/png": "[encoded data removed]",
      "text/plain": [
       "<Figure size 1440x576 with 1 Axes>"
      ]
     },
     "metadata": {
      "needs_background": "light"
     },
     "output_type": "display_data"
    }
   ],
   "source": [
    "result = std_number_calls.pivot_table(index='Month', \n",
    "                                      values=['Calls per 100,000 2018',\n",
    "                                              'Calls per 100,000 2019',\n",
    "                                              'Calls per 100,000 2020'])\n",
    "\n",
    "monthOrder = ['March', 'Apr', 'May', 'June', 'July', 'Aug']\n",
    "ax = result.loc[monthOrder].plot(kind=\"bar\", legend=True, \n",
    "                                 title =\"Domestic Assault Calls Per 100,000 People\", figsize=(20, 8), fontsize=16)\n",
    "ax.legend(['2018','2019','2020'])\n",
    "\n",
    "plt.xlabel(\"Month\")\n",
    "plt.ylabel(\"Number of Calls\")\n",
    "plt.show()"
   ]
  },
  {
   "cell_type": "markdown",
   "metadata": {},
   "source": [
    "A hypothesis of ours was a possible increase in domestic assault due to mandatory lockdowns at the beginning of the coronavirus spread...this is actually not something we saw in all the months.  We hypothesized this based on the idea that some people may be forced to lockdown in abusive households.  This data suggests that there was an increase in domestic assault and violence.  This suggestion is important because it can help us put out more resources regarding domestic violence now that we see the problem has exacerbated during the pandemic."
   ]
  },
  {
   "cell_type": "markdown",
   "metadata": {},
   "source": [
    "### Violent Crime 2019 vs. 2020"
   ]
  },
  {
   "cell_type": "code",
   "execution_count": 78,
   "metadata": {},
   "outputs": [],
   "source": [
    "ViolentCrime = CallsbyMonth[CallsbyMonth['TypeText'].str.contains(\"RAPE\")|CallsbyMonth['TypeText'].str.contains(\"ASSAULT\")\n",
    "                            |CallsbyMonth['TypeText'].str.contains(\"BATTERY\")]\n",
    "result = ViolentCrime.pivot_table(index='Month', \n",
    "                        columns='Year', values='TypeText', aggfunc='count')"
   ]
  },
  {
   "cell_type": "code",
   "execution_count": 79,
   "metadata": {},
   "outputs": [],
   "source": [
    "flattened = pd.DataFrame(result.to_records())\n",
    "std_number_calls = flattened.merge(Air_arrivals, on='Month')"
   ]
  },
  {
   "cell_type": "code",
   "execution_count": 80,
   "metadata": {},
   "outputs": [],
   "source": [
    "std_number_calls['Calls per 100,000 2018'] = (std_number_calls['2018']/std_number_calls['Total Pop 2018'])*100000\n",
    "std_number_calls['Calls per 100,000 2019'] = (std_number_calls['2019']/std_number_calls['Total Pop 2019'])*100000\n",
    "std_number_calls['Calls per 100,000 2020'] = (std_number_calls['2020']/std_number_calls['Total Pop 2020'])*100000"
   ]
  },
  {
   "cell_type": "code",
   "execution_count": 81,
   "metadata": {},
   "outputs": [
    {
     "data": {
      "image/png": "[encoded data removed]",
      "text/plain": [
       "<Figure size 1440x576 with 1 Axes>"
      ]
     },
     "metadata": {
      "needs_background": "light"
     },
     "output_type": "display_data"
    }
   ],
   "source": [
    "result = std_number_calls.pivot_table(index='Month', \n",
    "                                      values=['Calls per 100,000 2018',\n",
    "                                              'Calls per 100,000 2019',\n",
    "                                              'Calls per 100,000 2020'])\n",
    "\n",
    "monthOrder = ['March', 'Apr', 'May', 'June', 'July', 'Aug']\n",
    "ax = result.loc[monthOrder].plot(kind=\"bar\", legend=True, \n",
    "                                 title =\"Violent Crime Calls Per 100,000 People\", figsize=(20, 8), fontsize=16)\n",
    "ax.legend(['2018','2019','2020'])\n",
    "\n",
    "plt.xlabel(\"Month\")\n",
    "plt.ylabel(\"Number of Calls\")\n",
    "plt.show()"
   ]
  },
  {
   "cell_type": "markdown",
   "metadata": {},
   "source": [
    "A hypothesis of ours was a possible decrease in violent crime due to mandatory lockdowns at the beginning of the coronavirus spread.  This data suggest that we are incorrect and that there are more violent crime reports overall in 2020 per 100,000 people.  We can only speculate as to why, but the pandemic introduces a lot of new factors such as loss of employment, mental health issues, and lockdowns. In Aguust, a time where Louisiana moved to Phase 3 and less strict restrictions regarding coronavirus were imposed, we see things start to even out in comparison with 2018 and 2019.  Our data suggests that coronavirus is correlated with more violent crime."
   ]
  },
  {
   "cell_type": "markdown",
   "metadata": {},
   "source": [
    "### Number of Traffic Incident Calls"
   ]
  },
  {
   "cell_type": "code",
   "execution_count": 82,
   "metadata": {},
   "outputs": [],
   "source": [
    "TrafficIncidents = CallsbyMonth.loc[(CallsbyMonth['TypeText'] == 'TRAFFIC INCIDENT')]\n",
    "result = TrafficIncidents.pivot_table(index='Month', \n",
    "                        columns='Year', values='TypeText', aggfunc='count')"
   ]
  },
  {
   "cell_type": "code",
   "execution_count": 83,
   "metadata": {},
   "outputs": [],
   "source": [
    "flattened = pd.DataFrame(result.to_records())\n",
    "std_number_calls = flattened.merge(Air_arrivals, on='Month')"
   ]
  },
  {
   "cell_type": "code",
   "execution_count": 84,
   "metadata": {},
   "outputs": [],
   "source": [
    "std_number_calls['Calls per 100,000 2018'] = (std_number_calls['2018']/std_number_calls['Total Pop 2018'])*100000\n",
    "std_number_calls['Calls per 100,000 2019'] = (std_number_calls['2019']/std_number_calls['Total Pop 2019'])*100000\n",
    "std_number_calls['Calls per 100,000 2020'] = (std_number_calls['2020']/std_number_calls['Total Pop 2020'])*100000"
   ]
  },
  {
   "cell_type": "code",
   "execution_count": 85,
   "metadata": {},
   "outputs": [
    {
     "data": {
      "image/png": "[encoded data removed]",
      "text/plain": [
       "<Figure size 1440x576 with 1 Axes>"
      ]
     },
     "metadata": {
      "needs_background": "light"
     },
     "output_type": "display_data"
    }
   ],
   "source": [
    "result = std_number_calls.pivot_table(index='Month', \n",
    "                                      values=['Calls per 100,000 2018',\n",
    "                                              'Calls per 100,000 2019',\n",
    "                                              'Calls per 100,000 2020'])\n",
    "\n",
    "monthOrder = ['March', 'Apr', 'May', 'June', 'July', 'Aug']\n",
    "ax = result.loc[monthOrder].plot(kind=\"bar\", legend=True, \n",
    "                                 title =\"Traffic Incident Calls Per 100,000 People\", figsize=(20, 8), fontsize=16)\n",
    "ax.legend(['2018','2019','2020'])\n",
    "\n",
    "plt.xlabel(\"Month\")\n",
    "plt.ylabel(\"Number of Calls\")\n",
    "plt.show()"
   ]
  },
  {
   "cell_type": "markdown",
   "metadata": {},
   "source": [
    "We hypothesized that traffic incidents would decreased during lockdown due to the most parsimonious explanation that less people would be on the road due to lockdowns.  Our hypothesis turned out to be true for all months.  We were surpised that traffic incident calls did not increase as restrictions began to be lifted in August though.  But, it is important to note that many people still work from home at this time."
   ]
  },
  {
   "cell_type": "markdown",
   "metadata": {},
   "source": [
    "### Number of Suicide Calls"
   ]
  },
  {
   "cell_type": "code",
   "execution_count": 86,
   "metadata": {},
   "outputs": [],
   "source": [
    "Suicide = CallsbyMonth.loc[(CallsbyMonth['TypeText'] == 'SUICIDE')]\n",
    "result = Suicide.pivot_table(index='Month', \n",
    "                        columns='Year', values='TypeText', aggfunc='count')"
   ]
  },
  {
   "cell_type": "code",
   "execution_count": 87,
   "metadata": {},
   "outputs": [],
   "source": [
    "flattened = pd.DataFrame(result.to_records())\n",
    "std_number_calls = flattened.merge(Air_arrivals, on='Month')"
   ]
  },
  {
   "cell_type": "code",
   "execution_count": 88,
   "metadata": {},
   "outputs": [],
   "source": [
    "std_number_calls['Calls per 100,000 2018'] = (std_number_calls['2018']/std_number_calls['Total Pop 2018'])*100000\n",
    "std_number_calls['Calls per 100,000 2019'] = (std_number_calls['2019']/std_number_calls['Total Pop 2019'])*100000\n",
    "std_number_calls['Calls per 100,000 2020'] = (std_number_calls['2020']/std_number_calls['Total Pop 2020'])*100000"
   ]
  },
  {
   "cell_type": "code",
   "execution_count": 89,
   "metadata": {},
   "outputs": [
    {
     "data": {
      "image/png": "[encoded data removed]",
      "text/plain": [
       "<Figure size 1440x576 with 1 Axes>"
      ]
     },
     "metadata": {
      "needs_background": "light"
     },
     "output_type": "display_data"
    }
   ],
   "source": [
    "result = std_number_calls.pivot_table(index='Month', \n",
    "                                      values=['Calls per 100,000 2018',\n",
    "                                              'Calls per 100,000 2019',\n",
    "                                              'Calls per 100,000 2020'])\n",
    "\n",
    "monthOrder = ['March', 'Apr', 'May', 'June', 'July', 'Aug']\n",
    "ax = result.loc[monthOrder].plot(kind=\"bar\", legend=True, \n",
    "                                 title =\"Suicide Calls Per 100,000 People\", figsize=(20, 8), fontsize=16)\n",
    "ax.legend(['2018','2019','2020'])\n",
    "\n",
    "plt.xlabel(\"Month\")\n",
    "plt.ylabel(\"Number of Calls\")\n",
    "plt.show()"
   ]
  },
  {
   "cell_type": "markdown",
   "metadata": {},
   "source": [
    "Some positive findings: we do not see an increase in calls reporting suicides.  In fact, aside from March 2018, trends seem to remain fairly even between the past two years."
   ]
  },
  {
   "cell_type": "markdown",
   "metadata": {},
   "source": [
    "### Number of Homelessness Calls"
   ]
  },
  {
   "cell_type": "code",
   "execution_count": 90,
   "metadata": {},
   "outputs": [],
   "source": [
    "Homelessness = CallsbyMonth.loc[(CallsbyMonth['TypeText'] == 'HOMELESS')]\n",
    "result = Homelessness.pivot_table(index='Month', \n",
    "                        columns='Year', values='TypeText', aggfunc='count')\n"
   ]
  },
  {
   "cell_type": "code",
   "execution_count": 91,
   "metadata": {},
   "outputs": [],
   "source": [
    "flattened = pd.DataFrame(result.to_records())\n",
    "std_number_calls = flattened.merge(Air_arrivals, on='Month')"
   ]
  },
  {
   "cell_type": "code",
   "execution_count": 92,
   "metadata": {},
   "outputs": [],
   "source": [
    "std_number_calls['Calls per 100,000 2018'] = (std_number_calls['2018']/std_number_calls['Total Pop 2018'])*100000\n",
    "std_number_calls['Calls per 100,000 2019'] = (std_number_calls['2019']/std_number_calls['Total Pop 2019'])*100000\n",
    "std_number_calls['Calls per 100,000 2020'] = (std_number_calls['2020']/std_number_calls['Total Pop 2020'])*100000"
   ]
  },
  {
   "cell_type": "code",
   "execution_count": 93,
   "metadata": {},
   "outputs": [
    {
     "data": {
      "image/png": "[encoded data removed]",
      "text/plain": [
       "<Figure size 1440x576 with 1 Axes>"
      ]
     },
     "metadata": {
      "needs_background": "light"
     },
     "output_type": "display_data"
    }
   ],
   "source": [
    "result = std_number_calls.pivot_table(index='Month', \n",
    "                                      values=['Calls per 100,000 2018',\n",
    "                                              'Calls per 100,000 2019',\n",
    "                                              'Calls per 100,000 2020'])\n",
    "\n",
    "monthOrder = ['March', 'Apr', 'May', 'June', 'July', 'Aug']\n",
    "ax = result.loc[monthOrder].plot(kind=\"bar\", legend=True, \n",
    "                                 title =\"Homelessness Calls Per 100,000 People\", figsize=(20, 8), fontsize=16)\n",
    "ax.legend(['2018','2019','2020'])\n",
    "\n",
    "plt.xlabel(\"Month\")\n",
    "plt.ylabel(\"Number of Calls\")\n",
    "plt.show()"
   ]
  },
  {
   "cell_type": "markdown",
   "metadata": {},
   "source": [
    "Lastly, due to the increased the sheer nature of the virus and economic downfall, we predicted more calls reporting homelessness.  Even with the population in New Orleans shrinking in 2020 due to lack of tourism and travel, we still see significantly more calls at In March, April and May, at the height of lockdowns and during the first spike of the pandemic."
   ]
  },
  {
   "cell_type": "markdown",
   "metadata": {},
   "source": [
    "### Summary and Challenges"
   ]
  },
  {
   "cell_type": "markdown",
   "metadata": {},
   "source": [
    "Our main challenge revolved around the issue that we may be comparing unequal sizes of population in 2018, 2019 and 2020.  Due to this, we chose to standardize our populations by analyzing calls per 100,000 people.  We did this by estimating a total population per month by adding New Orlean's total population each year to the number of arrivals at MSY airport each month. \n",
    "\n",
    "Coronavirus is correlated with a higher number of 911 calls. \n",
    "\n",
    "Data on domestic assault calls accepts our hypothesis that lockdowns would increase domestic assault. [A study also found X-ray evidence points to pandemic lockdowns triggering a surge in cases of domestic violence.](https://www.webmd.com/lung/news/20200818/radiology-study-suggests-horrifying-rise-in-domestic-violence-during-pandemic#1).\n",
    "\n",
    "More violent crime was reported at the height of coronavirus and lockdowns.  Although it is important to keep in mind that a possible confound here could be police violence, rioting, and protests. [Reference](https://www.cnn.com/2020/08/16/us/violent-crime-soars-confidence-in-police-takes-hit/index.html) that supports this.\n",
    "\n",
    "Less traffic incidents during the lockdowns and overall throughout the pandemic.\n",
    "\n",
    "No significant changes in Suicide Calls.\n",
    " \n",
    "More reports of homelessness at the height of pandemic. [Reference](https://www.npr.org/2020/08/10/900766719/millions-of-americans-are-in-danger-of-being-evicted-during-pandemic) that supports this.\n",
    "\n",
    "And of course, a new whole new 911 call category reporting public gatherings!"
   ]
  },
  {
   "cell_type": "code",
   "execution_count": null,
   "metadata": {},
   "outputs": [],
   "source": []
  }
 ],
 "metadata": {
  "kernelspec": {
   "display_name": "Python 3",
   "language": "python",
   "name": "python3"
  },
  "language_info": {
   "codemirror_mode": {
    "name": "ipython",
    "version": 3
   },
   "file_extension": ".py",
   "mimetype": "text/x-python",
   "name": "python",
   "nbconvert_exporter": "python",
   "pygments_lexer": "ipython3",
   "version": "3.8.5"
  }
 },
 "nbformat": 4,
 "nbformat_minor": 4
}
