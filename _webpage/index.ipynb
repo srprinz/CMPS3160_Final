{
 "cells": [
  {
   "cell_type": "markdown",
   "metadata": {},
   "source": [
    "https://srprinz.github.io/CMPS3160_Final/\n",
    "\n",
    "https://github.com/srprinz/CMPS3160_Final"
   ]
  },
  {
   "cell_type": "markdown",
   "metadata": {},
   "source": [
    "&emsp;&emsp;For our Final Tutorial, I, Annie Donahue, and Shay Prinz, will be working together. We are planning on working with 911 call data from the years 2019 and 2020, and possibly looking backwards to earlier years if it seems necessary, or if we have the time. We would like to manipulate this data to be able to see how different events/phenomena affect either peoples’ ability to call 911, or their willingness to. \n",
    "\n",
    "&emsp;&emsp;For example, we would like to see what the data can tell us about pre-COVID19 911 calls, vs. post COVID19, by comparing the data February of 2020 with May of 2020, and then using February and May 2019 as a control factor to see if anything changed. We were also thinking about looking at the 911 call data during times of civil unrest where there was a prominent anti-police sentiment in the U.S. Right now, for example, it would be interesting to see if less people are calling the police as protests calling for police abolishment continue across the country. This data can tell us a lot about the current state of New Orleans as a whole as we will be able to see both crime reporting data and 911 calls related to health issues. These datasets encompass a lot of information, and it may be difficult to filter it in a way that will be easier and more digestible so as to see the true effects of the various events we are trying to center our analysis around.\n",
    "    \n",
    "&emsp;&emsp;A specific challenge Shay came across when transforming the data was converting from string to datetime. Due to how large this dataset is, it was taking over 10 minutes to complete the conversion. This is because pandas uses dateutil.parser.parse for parsing the strings when it has a non-default format or when no format string is supplied. I was able to speed up the process a bit by adding the parameter \"infer_datetime_format=True\".\n",
    "    \n",
    "&emsp;&emsp;We are planning on meeting once a week as a starting point, so as to gauge how much we can get done in one sitting, and make sure we are on a good pace to be able to complete our tutorial in the semester. If need be, we will move up to meeting multiple times a week, especially as we get closer to the end of the semester. Mostly, we will be completing our work on GitHub, and then using the weekly meeting to make a timeline for the next week, and set goals and checkpoints to accomplish before the next time we meet, as well as check in on each others progress and make sure our code and our analyses are compatible. \n",
    "    \n",
    "&emsp;&emsp;We would like to plan at least one big goal to accomplish for each week, which is a hard deadline for us both, as well as a stretch goal that we would ideally get done before the next week, but could be moved up to the next week if it became clear that we didn’t have enough time during that week. This is so as to keep us on a steady track, but also work with both of our busy schedules is knowing that there are some weeks where we may have more time and be able to get  larger bulk of things done, but even in our busier weeks, we would have to get the set goal done, keeping us on a steady movement towards completing the project. Ideally, our weeks will work around Thursdays, as since we are in the service learning portion of the class, we would like to be able to check in during those times with updates to our service learning partner and our class. \n",
    "\n",
    "\n",
    "\n",
    "This dataset reflects incidents that have been reported to the New Orleans Police Department in 2019. Data is provided by Orleans Parish Communication District (OPCD), the administrative office of 9-1-1 for the City of New Orleans."
   ]
  },
  {
   "cell_type": "code",
   "execution_count": 1,
   "metadata": {},
   "outputs": [],
   "source": [
    "import pandas as pd\n",
    "#set 'Beat' column dtype to object to avoid mixed dtypes in column\n",
    "Calls2019_df = pd.read_csv(\"../Calls_for_Service_2019.csv\",low_memory=False)"
   ]
  },
  {
   "cell_type": "code",
   "execution_count": 2,
   "metadata": {},
   "outputs": [],
   "source": [
    "#Tidy data by dropping columns that won't be used (NOPD_Item, MapX, MapY, TimeClosed, Beat, Location)\n",
    "del Calls2019_df['NOPD_Item']\n",
    "del Calls2019_df['MapX']\n",
    "del Calls2019_df['MapY']\n",
    "del Calls2019_df['TimeClosed']\n",
    "del Calls2019_df['Beat']\n",
    "del Calls2019_df['Location']"
   ]
  },
  {
   "cell_type": "code",
   "execution_count": 3,
   "metadata": {},
   "outputs": [
    {
     "data": {
      "text/html": [
       "<div>\n",
       "<style scoped>\n",
       "    .dataframe tbody tr th:only-of-type {\n",
       "        vertical-align: middle;\n",
       "    }\n",
       "\n",
       "    .dataframe tbody tr th {\n",
       "        vertical-align: top;\n",
       "    }\n",
       "\n",
       "    .dataframe thead th {\n",
       "        text-align: right;\n",
       "    }\n",
       "</style>\n",
       "<table border=\"1\" class=\"dataframe\">\n",
       "  <thead>\n",
       "    <tr style=\"text-align: right;\">\n",
       "      <th></th>\n",
       "      <th>Type</th>\n",
       "      <th>TypeText</th>\n",
       "      <th>Priority</th>\n",
       "      <th>TimeCreate</th>\n",
       "      <th>TimeDispatch</th>\n",
       "      <th>TimeArrival</th>\n",
       "      <th>Disposition</th>\n",
       "      <th>DispositionText</th>\n",
       "      <th>InitialType</th>\n",
       "      <th>InitialTypeText</th>\n",
       "      <th>InitialPriority</th>\n",
       "      <th>SelfInitiated</th>\n",
       "      <th>BLOCK_ADDRESS</th>\n",
       "      <th>Zip</th>\n",
       "      <th>PoliceDistrict</th>\n",
       "    </tr>\n",
       "  </thead>\n",
       "  <tbody>\n",
       "    <tr>\n",
       "      <th>0</th>\n",
       "      <td>58</td>\n",
       "      <td>RETURN FOR ADDITIONAL INFO</td>\n",
       "      <td>1I</td>\n",
       "      <td>2019-03-28 13:11:19</td>\n",
       "      <td>2019-03-28 13:11:19</td>\n",
       "      <td>NaT</td>\n",
       "      <td>NAT</td>\n",
       "      <td>Necessary Action Taken</td>\n",
       "      <td>58</td>\n",
       "      <td>RETURN FOR ADDITIONAL INFO</td>\n",
       "      <td>1I</td>\n",
       "      <td>N</td>\n",
       "      <td>N Galvez St &amp; Conti St</td>\n",
       "      <td>70119</td>\n",
       "      <td>1</td>\n",
       "    </tr>\n",
       "    <tr>\n",
       "      <th>1</th>\n",
       "      <td>62L</td>\n",
       "      <td>BURGLAR ALARM, LOCAL</td>\n",
       "      <td>2D</td>\n",
       "      <td>2019-03-28 17:02:07</td>\n",
       "      <td>2019-03-28 17:05:16</td>\n",
       "      <td>NaT</td>\n",
       "      <td>NAT</td>\n",
       "      <td>Necessary Action Taken</td>\n",
       "      <td>62L</td>\n",
       "      <td>BURGLAR ALARM, LOCAL</td>\n",
       "      <td>2D</td>\n",
       "      <td>N</td>\n",
       "      <td>020XX Canal St</td>\n",
       "      <td>70112</td>\n",
       "      <td>1</td>\n",
       "    </tr>\n",
       "    <tr>\n",
       "      <th>2</th>\n",
       "      <td>22A</td>\n",
       "      <td>AREA CHECK</td>\n",
       "      <td>1K</td>\n",
       "      <td>2019-03-08 15:50:25</td>\n",
       "      <td>2019-03-08 15:50:25</td>\n",
       "      <td>2019-03-08 15:50:30</td>\n",
       "      <td>NAT</td>\n",
       "      <td>Necessary Action Taken</td>\n",
       "      <td>22A</td>\n",
       "      <td>AREA CHECK</td>\n",
       "      <td>1K</td>\n",
       "      <td>N</td>\n",
       "      <td>Catina St &amp; Robert E Lee Blvd</td>\n",
       "      <td>70124</td>\n",
       "      <td>3</td>\n",
       "    </tr>\n",
       "    <tr>\n",
       "      <th>3</th>\n",
       "      <td>21</td>\n",
       "      <td>COMPLAINT OTHER</td>\n",
       "      <td>1J</td>\n",
       "      <td>2019-03-28 18:52:04</td>\n",
       "      <td>NaT</td>\n",
       "      <td>NaT</td>\n",
       "      <td>VOI</td>\n",
       "      <td>VOID</td>\n",
       "      <td>63</td>\n",
       "      <td>PROWLER</td>\n",
       "      <td>2E</td>\n",
       "      <td>N</td>\n",
       "      <td>001XX N Dorgenois St</td>\n",
       "      <td>70119</td>\n",
       "      <td>1</td>\n",
       "    </tr>\n",
       "    <tr>\n",
       "      <th>4</th>\n",
       "      <td>62C</td>\n",
       "      <td>SIMPLE BURGLARY VEHICLE</td>\n",
       "      <td>1G</td>\n",
       "      <td>2019-03-28 15:54:27</td>\n",
       "      <td>2019-03-28 16:18:37</td>\n",
       "      <td>NaT</td>\n",
       "      <td>RTF</td>\n",
       "      <td>REPORT TO FOLLOW</td>\n",
       "      <td>62C</td>\n",
       "      <td>SIMPLE BURGLARY VEHICLE</td>\n",
       "      <td>1G</td>\n",
       "      <td>N</td>\n",
       "      <td>005XX Soraparu St</td>\n",
       "      <td>70130</td>\n",
       "      <td>6</td>\n",
       "    </tr>\n",
       "    <tr>\n",
       "      <th>...</th>\n",
       "      <td>...</td>\n",
       "      <td>...</td>\n",
       "      <td>...</td>\n",
       "      <td>...</td>\n",
       "      <td>...</td>\n",
       "      <td>...</td>\n",
       "      <td>...</td>\n",
       "      <td>...</td>\n",
       "      <td>...</td>\n",
       "      <td>...</td>\n",
       "      <td>...</td>\n",
       "      <td>...</td>\n",
       "      <td>...</td>\n",
       "      <td>...</td>\n",
       "      <td>...</td>\n",
       "    </tr>\n",
       "    <tr>\n",
       "      <th>487357</th>\n",
       "      <td>103</td>\n",
       "      <td>DISTURBANCE (OTHER)</td>\n",
       "      <td>1C</td>\n",
       "      <td>2020-03-30 13:54:14</td>\n",
       "      <td>2020-03-30 14:04:46</td>\n",
       "      <td>2020-03-30 14:08:27</td>\n",
       "      <td>NAT</td>\n",
       "      <td>Necessary Action Taken</td>\n",
       "      <td>103</td>\n",
       "      <td>DISTURBANCE (OTHER)</td>\n",
       "      <td>1C</td>\n",
       "      <td>N</td>\n",
       "      <td>Benefit St &amp; Elysian Fields Ave</td>\n",
       "      <td>70122</td>\n",
       "      <td>3</td>\n",
       "    </tr>\n",
       "    <tr>\n",
       "      <th>487358</th>\n",
       "      <td>911</td>\n",
       "      <td>SILENT 911 CALL</td>\n",
       "      <td>2F</td>\n",
       "      <td>2020-03-30 14:46:20</td>\n",
       "      <td>2020-03-30 14:49:50</td>\n",
       "      <td>NaT</td>\n",
       "      <td>NAT</td>\n",
       "      <td>Necessary Action Taken</td>\n",
       "      <td>911</td>\n",
       "      <td>SILENT 911 CALL</td>\n",
       "      <td>2F</td>\n",
       "      <td>N</td>\n",
       "      <td>011XX N Tonti St</td>\n",
       "      <td>70119</td>\n",
       "      <td>1</td>\n",
       "    </tr>\n",
       "    <tr>\n",
       "      <th>487359</th>\n",
       "      <td>103F</td>\n",
       "      <td>FIGHT</td>\n",
       "      <td>2D</td>\n",
       "      <td>2020-03-30 15:16:45</td>\n",
       "      <td>2020-03-30 15:17:55</td>\n",
       "      <td>2020-03-30 15:21:02</td>\n",
       "      <td>GOA</td>\n",
       "      <td>GONE ON ARRIVAL</td>\n",
       "      <td>103F</td>\n",
       "      <td>FIGHT</td>\n",
       "      <td>2D</td>\n",
       "      <td>N</td>\n",
       "      <td>002XX Blk Esplanade Ave</td>\n",
       "      <td>70119</td>\n",
       "      <td>1</td>\n",
       "    </tr>\n",
       "    <tr>\n",
       "      <th>487360</th>\n",
       "      <td>103</td>\n",
       "      <td>DISTURBANCE (OTHER)</td>\n",
       "      <td>1C</td>\n",
       "      <td>2020-03-30 15:49:30</td>\n",
       "      <td>2020-03-30 15:52:52</td>\n",
       "      <td>NaT</td>\n",
       "      <td>VOI</td>\n",
       "      <td>VOID</td>\n",
       "      <td>103</td>\n",
       "      <td>DISTURBANCE (OTHER)</td>\n",
       "      <td>1C</td>\n",
       "      <td>N</td>\n",
       "      <td>042XX Chef Menteur Hwy</td>\n",
       "      <td>70126</td>\n",
       "      <td>3</td>\n",
       "    </tr>\n",
       "    <tr>\n",
       "      <th>487361</th>\n",
       "      <td>35D</td>\n",
       "      <td>SIMPLE BATTERY DOMESTIC</td>\n",
       "      <td>2C</td>\n",
       "      <td>2020-03-30 16:15:07</td>\n",
       "      <td>2020-03-30 16:18:30</td>\n",
       "      <td>2020-03-30 16:22:46</td>\n",
       "      <td>RTF</td>\n",
       "      <td>REPORT TO FOLLOW</td>\n",
       "      <td>103F</td>\n",
       "      <td>FIGHT</td>\n",
       "      <td>2D</td>\n",
       "      <td>N</td>\n",
       "      <td>Chippewa St &amp; Saint Andrew St</td>\n",
       "      <td>70130</td>\n",
       "      <td>6</td>\n",
       "    </tr>\n",
       "  </tbody>\n",
       "</table>\n",
       "<p>487362 rows × 15 columns</p>\n",
       "</div>"
      ],
      "text/plain": [
       "        Type                    TypeText Priority          TimeCreate  \\\n",
       "0         58  RETURN FOR ADDITIONAL INFO       1I 2019-03-28 13:11:19   \n",
       "1        62L        BURGLAR ALARM, LOCAL       2D 2019-03-28 17:02:07   \n",
       "2        22A                  AREA CHECK       1K 2019-03-08 15:50:25   \n",
       "3         21             COMPLAINT OTHER       1J 2019-03-28 18:52:04   \n",
       "4        62C     SIMPLE BURGLARY VEHICLE       1G 2019-03-28 15:54:27   \n",
       "...      ...                         ...      ...                 ...   \n",
       "487357   103         DISTURBANCE (OTHER)       1C 2020-03-30 13:54:14   \n",
       "487358   911             SILENT 911 CALL       2F 2020-03-30 14:46:20   \n",
       "487359  103F                       FIGHT       2D 2020-03-30 15:16:45   \n",
       "487360   103         DISTURBANCE (OTHER)       1C 2020-03-30 15:49:30   \n",
       "487361   35D     SIMPLE BATTERY DOMESTIC       2C 2020-03-30 16:15:07   \n",
       "\n",
       "              TimeDispatch         TimeArrival Disposition  \\\n",
       "0      2019-03-28 13:11:19                 NaT         NAT   \n",
       "1      2019-03-28 17:05:16                 NaT         NAT   \n",
       "2      2019-03-08 15:50:25 2019-03-08 15:50:30         NAT   \n",
       "3                      NaT                 NaT         VOI   \n",
       "4      2019-03-28 16:18:37                 NaT         RTF   \n",
       "...                    ...                 ...         ...   \n",
       "487357 2020-03-30 14:04:46 2020-03-30 14:08:27         NAT   \n",
       "487358 2020-03-30 14:49:50                 NaT         NAT   \n",
       "487359 2020-03-30 15:17:55 2020-03-30 15:21:02         GOA   \n",
       "487360 2020-03-30 15:52:52                 NaT         VOI   \n",
       "487361 2020-03-30 16:18:30 2020-03-30 16:22:46         RTF   \n",
       "\n",
       "               DispositionText InitialType             InitialTypeText  \\\n",
       "0       Necessary Action Taken          58  RETURN FOR ADDITIONAL INFO   \n",
       "1       Necessary Action Taken         62L        BURGLAR ALARM, LOCAL   \n",
       "2       Necessary Action Taken         22A                  AREA CHECK   \n",
       "3                         VOID          63                     PROWLER   \n",
       "4             REPORT TO FOLLOW         62C     SIMPLE BURGLARY VEHICLE   \n",
       "...                        ...         ...                         ...   \n",
       "487357  Necessary Action Taken         103         DISTURBANCE (OTHER)   \n",
       "487358  Necessary Action Taken         911             SILENT 911 CALL   \n",
       "487359         GONE ON ARRIVAL        103F                       FIGHT   \n",
       "487360                    VOID         103         DISTURBANCE (OTHER)   \n",
       "487361        REPORT TO FOLLOW        103F                       FIGHT   \n",
       "\n",
       "       InitialPriority SelfInitiated                    BLOCK_ADDRESS    Zip  \\\n",
       "0                   1I             N           N Galvez St & Conti St  70119   \n",
       "1                   2D             N                   020XX Canal St  70112   \n",
       "2                   1K             N    Catina St & Robert E Lee Blvd  70124   \n",
       "3                   2E             N             001XX N Dorgenois St  70119   \n",
       "4                   1G             N                005XX Soraparu St  70130   \n",
       "...                ...           ...                              ...    ...   \n",
       "487357              1C             N  Benefit St & Elysian Fields Ave  70122   \n",
       "487358              2F             N                 011XX N Tonti St  70119   \n",
       "487359              2D             N          002XX Blk Esplanade Ave  70119   \n",
       "487360              1C             N           042XX Chef Menteur Hwy  70126   \n",
       "487361              2D             N    Chippewa St & Saint Andrew St  70130   \n",
       "\n",
       "        PoliceDistrict  \n",
       "0                    1  \n",
       "1                    1  \n",
       "2                    3  \n",
       "3                    1  \n",
       "4                    6  \n",
       "...                ...  \n",
       "487357               3  \n",
       "487358               1  \n",
       "487359               1  \n",
       "487360               3  \n",
       "487361               6  \n",
       "\n",
       "[487362 rows x 15 columns]"
      ]
     },
     "execution_count": 3,
     "metadata": {},
     "output_type": "execute_result"
    }
   ],
   "source": [
    "#Calls2019_df.dtypes\n",
    "#Convert TimeCreate, TimeDispatch, and TimeArrival to datetime\n",
    "Calls2019_df['TimeCreate'] = pd.to_datetime(Calls2019_df['TimeCreate'],infer_datetime_format=True)\n",
    "Calls2019_df['TimeDispatch'] = pd.to_datetime(Calls2019_df['TimeDispatch'],infer_datetime_format=True)\n",
    "Calls2019_df['TimeArrival'] = pd.to_datetime(Calls2019_df['TimeArrival'],infer_datetime_format=True)\n",
    "\n",
    "#replace missing data\n",
    "Calls2019_df"
   ]
  },
  {
   "cell_type": "markdown",
   "metadata": {},
   "source": [
    "This dataset reflects incidents that have been reported to the New Orleans Police Department in 2020. Data is provided by Orleans Parish Communication District (OPCD), the administrative office of 9-1-1 for the City of New Orleans."
   ]
  },
  {
   "cell_type": "code",
   "execution_count": 4,
   "metadata": {},
   "outputs": [],
   "source": [
    "Calls2020_df = pd.read_csv(\"../Call_for_Service_2020.csv\")"
   ]
  },
  {
   "cell_type": "code",
   "execution_count": 5,
   "metadata": {},
   "outputs": [],
   "source": [
    "#Tidy data by dropping columns that won't be used (NOPD_Item, MapX, MapY, TimeClosed, Beat, Location)\n",
    "del Calls2020_df['NOPD_Item']\n",
    "del Calls2020_df['MapX']\n",
    "del Calls2020_df['MapY']\n",
    "del Calls2020_df['TimeClosed']\n",
    "del Calls2020_df['Beat']\n",
    "del Calls2020_df['Location']"
   ]
  },
  {
   "cell_type": "code",
   "execution_count": 6,
   "metadata": {},
   "outputs": [
    {
     "data": {
      "text/html": [
       "<div>\n",
       "<style scoped>\n",
       "    .dataframe tbody tr th:only-of-type {\n",
       "        vertical-align: middle;\n",
       "    }\n",
       "\n",
       "    .dataframe tbody tr th {\n",
       "        vertical-align: top;\n",
       "    }\n",
       "\n",
       "    .dataframe thead th {\n",
       "        text-align: right;\n",
       "    }\n",
       "</style>\n",
       "<table border=\"1\" class=\"dataframe\">\n",
       "  <thead>\n",
       "    <tr style=\"text-align: right;\">\n",
       "      <th></th>\n",
       "      <th>Type</th>\n",
       "      <th>TypeText</th>\n",
       "      <th>Priority</th>\n",
       "      <th>InitialType</th>\n",
       "      <th>InitialTypeText</th>\n",
       "      <th>InitialPriority</th>\n",
       "      <th>TimeCreate</th>\n",
       "      <th>TimeDispatch</th>\n",
       "      <th>TimeArrive</th>\n",
       "      <th>Disposition</th>\n",
       "      <th>DispositionText</th>\n",
       "      <th>SelfInitiated</th>\n",
       "      <th>BLOCK_ADDRESS</th>\n",
       "      <th>Zip</th>\n",
       "      <th>PoliceDistrict</th>\n",
       "    </tr>\n",
       "  </thead>\n",
       "  <tbody>\n",
       "    <tr>\n",
       "      <th>0</th>\n",
       "      <td>94F</td>\n",
       "      <td>FIREWORKS</td>\n",
       "      <td>1A</td>\n",
       "      <td>103</td>\n",
       "      <td>DISTURBANCE (OTHER)</td>\n",
       "      <td>1C</td>\n",
       "      <td>2020-01-01 00:00:34</td>\n",
       "      <td>2020-01-01 02:34:18</td>\n",
       "      <td>NaT</td>\n",
       "      <td>NAT</td>\n",
       "      <td>Necessary Action Taken</td>\n",
       "      <td>N</td>\n",
       "      <td>001XX Blk Riviera Ave</td>\n",
       "      <td>70122</td>\n",
       "      <td>3</td>\n",
       "    </tr>\n",
       "    <tr>\n",
       "      <th>1</th>\n",
       "      <td>21</td>\n",
       "      <td>COMPLAINT OTHER</td>\n",
       "      <td>1J</td>\n",
       "      <td>21</td>\n",
       "      <td>COMPLAINT OTHER</td>\n",
       "      <td>1J</td>\n",
       "      <td>2020-01-01 00:00:42</td>\n",
       "      <td>2020-01-01 00:00:42</td>\n",
       "      <td>2020-01-01 00:00:42</td>\n",
       "      <td>NAT</td>\n",
       "      <td>Necessary Action Taken</td>\n",
       "      <td>Y</td>\n",
       "      <td>034XX Broadway St</td>\n",
       "      <td>70125</td>\n",
       "      <td>2</td>\n",
       "    </tr>\n",
       "    <tr>\n",
       "      <th>2</th>\n",
       "      <td>94F</td>\n",
       "      <td>FIREWORKS</td>\n",
       "      <td>1A</td>\n",
       "      <td>94F</td>\n",
       "      <td>FIREWORKS</td>\n",
       "      <td>2J</td>\n",
       "      <td>2020-01-01 00:01:05</td>\n",
       "      <td>2020-01-01 01:49:42</td>\n",
       "      <td>2020-01-01 02:08:17</td>\n",
       "      <td>NAT</td>\n",
       "      <td>Necessary Action Taken</td>\n",
       "      <td>N</td>\n",
       "      <td>026XX Banks St</td>\n",
       "      <td>70119</td>\n",
       "      <td>1</td>\n",
       "    </tr>\n",
       "    <tr>\n",
       "      <th>3</th>\n",
       "      <td>94</td>\n",
       "      <td>DISCHARGING FIREARM</td>\n",
       "      <td>2D</td>\n",
       "      <td>94</td>\n",
       "      <td>DISCHARGING FIREARM</td>\n",
       "      <td>2D</td>\n",
       "      <td>2020-01-01 00:02:50</td>\n",
       "      <td>2020-01-01 00:02:54</td>\n",
       "      <td>2020-01-01 00:09:13</td>\n",
       "      <td>GOA</td>\n",
       "      <td>GONE ON ARRIVAL</td>\n",
       "      <td>N</td>\n",
       "      <td>Kerlerec St &amp; N Robertson St</td>\n",
       "      <td>70116</td>\n",
       "      <td>1</td>\n",
       "    </tr>\n",
       "    <tr>\n",
       "      <th>4</th>\n",
       "      <td>94F</td>\n",
       "      <td>FIREWORKS</td>\n",
       "      <td>1A</td>\n",
       "      <td>94F</td>\n",
       "      <td>FIREWORKS</td>\n",
       "      <td>2J</td>\n",
       "      <td>2020-01-01 00:03:46</td>\n",
       "      <td>2020-01-01 00:34:36</td>\n",
       "      <td>NaT</td>\n",
       "      <td>NAT</td>\n",
       "      <td>Necessary Action Taken</td>\n",
       "      <td>N</td>\n",
       "      <td>053XX Memphis St</td>\n",
       "      <td>70124</td>\n",
       "      <td>3</td>\n",
       "    </tr>\n",
       "    <tr>\n",
       "      <th>...</th>\n",
       "      <td>...</td>\n",
       "      <td>...</td>\n",
       "      <td>...</td>\n",
       "      <td>...</td>\n",
       "      <td>...</td>\n",
       "      <td>...</td>\n",
       "      <td>...</td>\n",
       "      <td>...</td>\n",
       "      <td>...</td>\n",
       "      <td>...</td>\n",
       "      <td>...</td>\n",
       "      <td>...</td>\n",
       "      <td>...</td>\n",
       "      <td>...</td>\n",
       "      <td>...</td>\n",
       "    </tr>\n",
       "    <tr>\n",
       "      <th>309526</th>\n",
       "      <td>62A</td>\n",
       "      <td>BURGLAR ALARM, SILENT</td>\n",
       "      <td>2E</td>\n",
       "      <td>62A</td>\n",
       "      <td>BURGLAR ALARM, SILENT</td>\n",
       "      <td>2E</td>\n",
       "      <td>2020-09-16 06:55:41</td>\n",
       "      <td>2020-09-16 06:57:24</td>\n",
       "      <td>2020-09-16 07:01:49</td>\n",
       "      <td>NAT</td>\n",
       "      <td>Necessary Action Taken</td>\n",
       "      <td>N</td>\n",
       "      <td>027XX Verbena St</td>\n",
       "      <td>70122</td>\n",
       "      <td>3</td>\n",
       "    </tr>\n",
       "    <tr>\n",
       "      <th>309527</th>\n",
       "      <td>22A</td>\n",
       "      <td>AREA CHECK</td>\n",
       "      <td>1K</td>\n",
       "      <td>22A</td>\n",
       "      <td>AREA CHECK</td>\n",
       "      <td>1K</td>\n",
       "      <td>2020-09-16 15:29:32</td>\n",
       "      <td>2020-09-16 15:29:32</td>\n",
       "      <td>2020-09-16 15:29:47</td>\n",
       "      <td>NAT</td>\n",
       "      <td>Necessary Action Taken</td>\n",
       "      <td>N</td>\n",
       "      <td>007XX Canal St</td>\n",
       "      <td>70130</td>\n",
       "      <td>8</td>\n",
       "    </tr>\n",
       "    <tr>\n",
       "      <th>309528</th>\n",
       "      <td>21</td>\n",
       "      <td>COMPLAINT OTHER</td>\n",
       "      <td>2A</td>\n",
       "      <td>911</td>\n",
       "      <td>SILENT 911 CALL</td>\n",
       "      <td>2F</td>\n",
       "      <td>2020-09-16 20:12:48</td>\n",
       "      <td>2020-09-16 20:14:57</td>\n",
       "      <td>2020-09-16 20:17:39</td>\n",
       "      <td>GOA</td>\n",
       "      <td>GONE ON ARRIVAL</td>\n",
       "      <td>N</td>\n",
       "      <td>S Carrollton Ave &amp; Tulane Ave</td>\n",
       "      <td>70119</td>\n",
       "      <td>1</td>\n",
       "    </tr>\n",
       "    <tr>\n",
       "      <th>309529</th>\n",
       "      <td>22A</td>\n",
       "      <td>AREA CHECK</td>\n",
       "      <td>1K</td>\n",
       "      <td>22A</td>\n",
       "      <td>AREA CHECK</td>\n",
       "      <td>1K</td>\n",
       "      <td>2020-09-16 05:25:06</td>\n",
       "      <td>2020-09-16 05:25:06</td>\n",
       "      <td>2020-09-16 05:25:06</td>\n",
       "      <td>NAT</td>\n",
       "      <td>Necessary Action Taken</td>\n",
       "      <td>Y</td>\n",
       "      <td>Basin St &amp; Crozat St</td>\n",
       "      <td>70112</td>\n",
       "      <td>1</td>\n",
       "    </tr>\n",
       "    <tr>\n",
       "      <th>309530</th>\n",
       "      <td>22A</td>\n",
       "      <td>AREA CHECK</td>\n",
       "      <td>1K</td>\n",
       "      <td>22A</td>\n",
       "      <td>AREA CHECK</td>\n",
       "      <td>1K</td>\n",
       "      <td>2020-09-16 14:33:24</td>\n",
       "      <td>2020-09-16 14:33:24</td>\n",
       "      <td>2020-09-16 14:33:39</td>\n",
       "      <td>NAT</td>\n",
       "      <td>Necessary Action Taken</td>\n",
       "      <td>N</td>\n",
       "      <td>Baudin St &amp; S Genois St</td>\n",
       "      <td>70119</td>\n",
       "      <td>1</td>\n",
       "    </tr>\n",
       "  </tbody>\n",
       "</table>\n",
       "<p>309531 rows × 15 columns</p>\n",
       "</div>"
      ],
      "text/plain": [
       "       Type               TypeText Priority InitialType  \\\n",
       "0       94F              FIREWORKS       1A         103   \n",
       "1        21        COMPLAINT OTHER       1J          21   \n",
       "2       94F              FIREWORKS       1A         94F   \n",
       "3        94    DISCHARGING FIREARM       2D          94   \n",
       "4       94F              FIREWORKS       1A         94F   \n",
       "...     ...                    ...      ...         ...   \n",
       "309526  62A  BURGLAR ALARM, SILENT       2E         62A   \n",
       "309527  22A             AREA CHECK       1K         22A   \n",
       "309528   21        COMPLAINT OTHER       2A         911   \n",
       "309529  22A             AREA CHECK       1K         22A   \n",
       "309530  22A             AREA CHECK       1K         22A   \n",
       "\n",
       "              InitialTypeText InitialPriority          TimeCreate  \\\n",
       "0         DISTURBANCE (OTHER)              1C 2020-01-01 00:00:34   \n",
       "1             COMPLAINT OTHER              1J 2020-01-01 00:00:42   \n",
       "2                   FIREWORKS              2J 2020-01-01 00:01:05   \n",
       "3         DISCHARGING FIREARM              2D 2020-01-01 00:02:50   \n",
       "4                   FIREWORKS              2J 2020-01-01 00:03:46   \n",
       "...                       ...             ...                 ...   \n",
       "309526  BURGLAR ALARM, SILENT              2E 2020-09-16 06:55:41   \n",
       "309527             AREA CHECK              1K 2020-09-16 15:29:32   \n",
       "309528        SILENT 911 CALL              2F 2020-09-16 20:12:48   \n",
       "309529             AREA CHECK              1K 2020-09-16 05:25:06   \n",
       "309530             AREA CHECK              1K 2020-09-16 14:33:24   \n",
       "\n",
       "              TimeDispatch          TimeArrive Disposition  \\\n",
       "0      2020-01-01 02:34:18                 NaT         NAT   \n",
       "1      2020-01-01 00:00:42 2020-01-01 00:00:42         NAT   \n",
       "2      2020-01-01 01:49:42 2020-01-01 02:08:17         NAT   \n",
       "3      2020-01-01 00:02:54 2020-01-01 00:09:13         GOA   \n",
       "4      2020-01-01 00:34:36                 NaT         NAT   \n",
       "...                    ...                 ...         ...   \n",
       "309526 2020-09-16 06:57:24 2020-09-16 07:01:49         NAT   \n",
       "309527 2020-09-16 15:29:32 2020-09-16 15:29:47         NAT   \n",
       "309528 2020-09-16 20:14:57 2020-09-16 20:17:39         GOA   \n",
       "309529 2020-09-16 05:25:06 2020-09-16 05:25:06         NAT   \n",
       "309530 2020-09-16 14:33:24 2020-09-16 14:33:39         NAT   \n",
       "\n",
       "               DispositionText SelfInitiated                  BLOCK_ADDRESS  \\\n",
       "0       Necessary Action Taken             N          001XX Blk Riviera Ave   \n",
       "1       Necessary Action Taken             Y              034XX Broadway St   \n",
       "2       Necessary Action Taken             N                 026XX Banks St   \n",
       "3              GONE ON ARRIVAL             N   Kerlerec St & N Robertson St   \n",
       "4       Necessary Action Taken             N               053XX Memphis St   \n",
       "...                        ...           ...                            ...   \n",
       "309526  Necessary Action Taken             N               027XX Verbena St   \n",
       "309527  Necessary Action Taken             N                 007XX Canal St   \n",
       "309528         GONE ON ARRIVAL             N  S Carrollton Ave & Tulane Ave   \n",
       "309529  Necessary Action Taken             Y           Basin St & Crozat St   \n",
       "309530  Necessary Action Taken             N        Baudin St & S Genois St   \n",
       "\n",
       "          Zip  PoliceDistrict  \n",
       "0       70122               3  \n",
       "1       70125               2  \n",
       "2       70119               1  \n",
       "3       70116               1  \n",
       "4       70124               3  \n",
       "...       ...             ...  \n",
       "309526  70122               3  \n",
       "309527  70130               8  \n",
       "309528  70119               1  \n",
       "309529  70112               1  \n",
       "309530  70119               1  \n",
       "\n",
       "[309531 rows x 15 columns]"
      ]
     },
     "execution_count": 6,
     "metadata": {},
     "output_type": "execute_result"
    }
   ],
   "source": [
    "#Calls2019_df.dtypes\n",
    "#Convert TimeCreate, TimeDispatch, and TimeArrive to datetime\n",
    "Calls2020_df['TimeCreate'] = pd.to_datetime(Calls2020_df['TimeCreate'],infer_datetime_format=True)\n",
    "Calls2020_df['TimeDispatch'] = pd.to_datetime(Calls2020_df['TimeDispatch'],infer_datetime_format=True)\n",
    "Calls2020_df['TimeArrive'] = pd.to_datetime(Calls2020_df['TimeArrive'],infer_datetime_format=True)\n",
    "\n",
    "#replace missing data\n",
    "Calls2020_df"
   ]
  },
  {
   "cell_type": "markdown",
   "metadata": {},
   "source": [
    "A challenge I came across when transforming the data was converting from string to datetime.  Due to how large this dataset is, it was taking over 10 minutes to complete the conversion.  This is because pandas uses dateutil.parser.parse for parsing the strings when it has a non-default format or when no format string is supplied. I was able to speed up the process a bit by adding the parameter \"infer_datetime_format=True\"."
   ]
  },
  {
   "cell_type": "markdown",
   "metadata": {},
   "source": [
    "#### Graph for proportion of calls in March 2019 vs March 2020"
   ]
  },
  {
   "cell_type": "code",
   "execution_count": 7,
   "metadata": {},
   "outputs": [],
   "source": [
    "#Create new dataframe with only incidents from March 2019\n",
    "CallsMarch2019 = Calls2019_df[Calls2019_df['TimeCreate'].dt.month == 3]\n",
    "#Create new dataframe with only incidents from March 2020\n",
    "CallsMarch2020  = Calls2020_df[Calls2020_df['TimeCreate'].dt.month == 3]"
   ]
  },
  {
   "cell_type": "code",
   "execution_count": 8,
   "metadata": {},
   "outputs": [],
   "source": [
    "#get proportion of calls made in March 2019 \n",
    "propMarch2019 = len(CallsMarch2019)/len(Calls2019_df)"
   ]
  },
  {
   "cell_type": "code",
   "execution_count": 9,
   "metadata": {},
   "outputs": [],
   "source": [
    "#get proportion of calls made in March 2020 \n",
    "propMarch2020 = len(CallsMarch2020)/len(Calls2020_df)"
   ]
  },
  {
   "cell_type": "code",
   "execution_count": 10,
   "metadata": {},
   "outputs": [
    {
     "data": {
      "text/plain": [
       "<matplotlib.axes._subplots.AxesSubplot at 0x7f607a77d550>"
      ]
     },
     "execution_count": 10,
     "metadata": {},
     "output_type": "execute_result"
    },
    {
     "data": {
      "image/png": "[encoded data removed]",
      "text/plain": [
       "<Figure size 432x288 with 1 Axes>"
      ]
     },
     "metadata": {
      "needs_background": "light"
     },
     "output_type": "display_data"
    }
   ],
   "source": [
    "data = {'March':['2019','2020'], 'Proportion' :[propMarch2019, propMarch2020]}\n",
    "propMarch_df = pd.DataFrame(data) \n",
    "propMarch_df = propMarch_df.set_index('March')\n",
    "propMarch_df.plot.bar()"
   ]
  },
  {
   "cell_type": "markdown",
   "metadata": {},
   "source": [
    "#### Graph for proportion of calls in August 2019 vs August 2020"
   ]
  },
  {
   "cell_type": "code",
   "execution_count": 11,
   "metadata": {},
   "outputs": [],
   "source": [
    "#Create new dataframe with only incidents from August 2019\n",
    "CallsAugust2019 = Calls2019_df[Calls2019_df['TimeCreate'].dt.month == 8]\n",
    "#Create new dataframe with only incidents from August 2020\n",
    "CallsAugust2020 = Calls2020_df[Calls2020_df['TimeCreate'].dt.month == 8]"
   ]
  },
  {
   "cell_type": "code",
   "execution_count": 12,
   "metadata": {},
   "outputs": [],
   "source": [
    "#get proportion of calls made in August 2019\n",
    "propAugust2019 = len(CallsAugust2019)/len(Calls2019_df)"
   ]
  },
  {
   "cell_type": "code",
   "execution_count": 13,
   "metadata": {},
   "outputs": [],
   "source": [
    "#get proportion of calls made in August 2020\n",
    "propAugust2020 = len(CallsAugust2020)/len(Calls2020_df)"
   ]
  },
  {
   "cell_type": "code",
   "execution_count": 14,
   "metadata": {},
   "outputs": [
    {
     "data": {
      "text/plain": [
       "<matplotlib.axes._subplots.AxesSubplot at 0x7f607a3d0c70>"
      ]
     },
     "execution_count": 14,
     "metadata": {},
     "output_type": "execute_result"
    },
    {
     "data": {
      "image/png": "[encoded data removed]",
      "text/plain": [
       "<Figure size 432x288 with 1 Axes>"
      ]
     },
     "metadata": {
      "needs_background": "light"
     },
     "output_type": "display_data"
    }
   ],
   "source": [
    "data = {'August':['2019', '2020'], \n",
    "        'Proportion of 911 Calls' :[propAugust2019, propAugust2020]}\n",
    "propAugust_df = pd.DataFrame(data) \n",
    "propAugust_df = propAugust_df.set_index('August')\n",
    "propAugust_df.plot.bar()"
   ]
  },
  {
   "cell_type": "markdown",
   "metadata": {},
   "source": [
    "#### Graph top 5 types of calls in 2019"
   ]
  },
  {
   "cell_type": "code",
   "execution_count": 15,
   "metadata": {},
   "outputs": [
    {
     "data": {
      "text/plain": [
       "AREA CHECK                  82318\n",
       "COMPLAINT OTHER             59285\n",
       "DISTURBANCE (OTHER)         29239\n",
       "TRAFFIC INCIDENT            24713\n",
       "BURGLAR ALARM, SILENT       22667\n",
       "                            ...  \n",
       "UNLAWFUL SALES TO MINORS        1\n",
       "RIOT                            1\n",
       "SIMPLE BURGLARY DOMESTIC        1\n",
       "AUTO SMASH & GRAB               1\n",
       "IMPERSONATING AN OFFICER        1\n",
       "Name: InitialTypeText, Length: 169, dtype: int64"
      ]
     },
     "execution_count": 15,
     "metadata": {},
     "output_type": "execute_result"
    }
   ],
   "source": [
    "Calls2019_df['InitialTypeText'].value_counts()"
   ]
  },
  {
   "cell_type": "code",
   "execution_count": 50,
   "metadata": {},
   "outputs": [],
   "source": [
    "MostCommonCalls2019 = Calls2019_df['TypeText'].value_counts().nlargest(5)"
   ]
  },
  {
   "cell_type": "code",
   "execution_count": 51,
   "metadata": {},
   "outputs": [
    {
     "data": {
      "text/plain": [
       "<matplotlib.axes._subplots.AxesSubplot at 0x7f6079c2b520>"
      ]
     },
     "execution_count": 51,
     "metadata": {},
     "output_type": "execute_result"
    },
    {
     "data": {
      "image/png": "[encoded data removed]",
      "text/plain": [
       "<Figure size 432x288 with 1 Axes>"
      ]
     },
     "metadata": {
      "needs_background": "light"
     },
     "output_type": "display_data"
    }
   ],
   "source": [
    "MostCommonCalls2019.plot(kind='bar')"
   ]
  },
  {
   "cell_type": "code",
   "execution_count": 52,
   "metadata": {},
   "outputs": [],
   "source": [
    "MostCommonCalls2020 = Calls2020_df['TypeText'].value_counts().nlargest(5)"
   ]
  },
  {
   "cell_type": "code",
   "execution_count": 53,
   "metadata": {},
   "outputs": [
    {
     "data": {
      "text/plain": [
       "<matplotlib.axes._subplots.AxesSubplot at 0x7f6079b979d0>"
      ]
     },
     "execution_count": 53,
     "metadata": {},
     "output_type": "execute_result"
    },
    {
     "data": {
      "image/png": "[encoded data removed]",
      "text/plain": [
       "<Figure size 432x288 with 1 Axes>"
      ]
     },
     "metadata": {
      "needs_background": "light"
     },
     "output_type": "display_data"
    }
   ],
   "source": [
    "MostCommonCalls2020.plot(kind='bar')"
   ]
  },
  {
   "cell_type": "code",
   "execution_count": null,
   "metadata": {},
   "outputs": [],
   "source": []
  }
 ],
 "metadata": {
  "kernelspec": {
   "display_name": "Python 3",
   "language": "python",
   "name": "python3"
  },
  "language_info": {
   "codemirror_mode": {
    "name": "ipython",
    "version": 3
   },
   "file_extension": ".py",
   "mimetype": "text/x-python",
   "name": "python",
   "nbconvert_exporter": "python",
   "pygments_lexer": "ipython3",
   "version": "3.8.5"
  }
 },
 "nbformat": 4,
 "nbformat_minor": 4
}
